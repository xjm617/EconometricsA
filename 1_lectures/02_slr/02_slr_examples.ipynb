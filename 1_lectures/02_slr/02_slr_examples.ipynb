{
 "cells": [
  {
   "cell_type": "markdown",
   "metadata": {
    "slideshow": {
     "slide_type": "slide"
    }
   },
   "source": [
    "#  The simple linear regression model (SLR)\n",
    "\n",
    "### Econometrics A (ØkA)\n",
    "\n",
    "Wooldridge (Ch. 2)\n",
    "\n",
    "Bertel Schjerning\n",
    "\n",
    "Department of Economics, University of Copenhagen\n"
   ]
  },
  {
   "cell_type": "markdown",
   "metadata": {
    "slideshow": {
     "slide_type": "slide"
    }
   },
   "source": [
    "# Part 1: Timeløn og uddannelse (OLS estimation)"
   ]
  },
  {
   "cell_type": "markdown",
   "metadata": {
    "slideshow": {
     "slide_type": "slide"
    }
   },
   "source": [
    "### Eksempel 1: Timeløn og uddannelse\n",
    "Estimation af simpel model for timeløn og uddannelse:\n",
    "$$\n",
    "\t\t\\text{timeløn}_i = \\beta _{0}+\\beta _{1}\\text{uddannelse}_i+u_i\n",
    "$$\n",
    "- Vi benytter data fra Danmarks Statistik.\n",
    "    - Data indeholder $N=1.078$ tilfældigt udvalgte personer i 1994.\t\n",
    "\t- For hvert individ, $i$, har vi information om timelønnen, køn, antal årsuddannelse, single, alder og erhvervserfaring.\n",
    "- Datasættet er afgrænset således:\n",
    "    - 20-68 årige.\t\t\t\n",
    "\t- Lønmodtagere.\t\t\t\n",
    "\t- Timeløn på mere end 40 kr."
   ]
  },
  {
   "cell_type": "markdown",
   "metadata": {
    "slideshow": {
     "slide_type": "slide"
    }
   },
   "source": [
    "### Indlæs data og relevante libraries "
   ]
  },
  {
   "cell_type": "code",
   "execution_count": 2,
   "metadata": {
    "slideshow": {
     "slide_type": "-"
    }
   },
   "outputs": [
    {
     "data": {
      "text/html": [
       "<div>\n",
       "<style scoped>\n",
       "    .dataframe tbody tr th:only-of-type {\n",
       "        vertical-align: middle;\n",
       "    }\n",
       "\n",
       "    .dataframe tbody tr th {\n",
       "        vertical-align: top;\n",
       "    }\n",
       "\n",
       "    .dataframe thead th {\n",
       "        text-align: right;\n",
       "    }\n",
       "</style>\n",
       "<table border=\"1\" class=\"dataframe\">\n",
       "  <thead>\n",
       "    <tr style=\"text-align: right;\">\n",
       "      <th></th>\n",
       "      <th>sex</th>\n",
       "      <th>age</th>\n",
       "      <th>wage</th>\n",
       "      <th>educ</th>\n",
       "      <th>experience</th>\n",
       "      <th>single</th>\n",
       "      <th>const</th>\n",
       "    </tr>\n",
       "  </thead>\n",
       "  <tbody>\n",
       "    <tr>\n",
       "      <th>count</th>\n",
       "      <td>1078.000000</td>\n",
       "      <td>1078.000000</td>\n",
       "      <td>1078.000000</td>\n",
       "      <td>1078.000000</td>\n",
       "      <td>1078.000000</td>\n",
       "      <td>1078.000000</td>\n",
       "      <td>1078.0</td>\n",
       "    </tr>\n",
       "    <tr>\n",
       "      <th>mean</th>\n",
       "      <td>1.479592</td>\n",
       "      <td>39.302412</td>\n",
       "      <td>139.192950</td>\n",
       "      <td>11.449907</td>\n",
       "      <td>14.626375</td>\n",
       "      <td>0.258813</td>\n",
       "      <td>1.0</td>\n",
       "    </tr>\n",
       "    <tr>\n",
       "      <th>std</th>\n",
       "      <td>0.499815</td>\n",
       "      <td>11.068010</td>\n",
       "      <td>47.357094</td>\n",
       "      <td>3.311553</td>\n",
       "      <td>8.564899</td>\n",
       "      <td>0.438186</td>\n",
       "      <td>0.0</td>\n",
       "    </tr>\n",
       "    <tr>\n",
       "      <th>min</th>\n",
       "      <td>1.000000</td>\n",
       "      <td>20.000000</td>\n",
       "      <td>44.000000</td>\n",
       "      <td>0.000000</td>\n",
       "      <td>0.139000</td>\n",
       "      <td>0.000000</td>\n",
       "      <td>1.0</td>\n",
       "    </tr>\n",
       "    <tr>\n",
       "      <th>25%</th>\n",
       "      <td>1.000000</td>\n",
       "      <td>30.000000</td>\n",
       "      <td>110.000000</td>\n",
       "      <td>10.000000</td>\n",
       "      <td>7.833750</td>\n",
       "      <td>0.000000</td>\n",
       "      <td>1.0</td>\n",
       "    </tr>\n",
       "    <tr>\n",
       "      <th>50%</th>\n",
       "      <td>1.000000</td>\n",
       "      <td>39.000000</td>\n",
       "      <td>129.000000</td>\n",
       "      <td>12.000000</td>\n",
       "      <td>13.823500</td>\n",
       "      <td>0.000000</td>\n",
       "      <td>1.0</td>\n",
       "    </tr>\n",
       "    <tr>\n",
       "      <th>75%</th>\n",
       "      <td>2.000000</td>\n",
       "      <td>48.000000</td>\n",
       "      <td>159.000000</td>\n",
       "      <td>13.000000</td>\n",
       "      <td>20.913500</td>\n",
       "      <td>1.000000</td>\n",
       "      <td>1.0</td>\n",
       "    </tr>\n",
       "    <tr>\n",
       "      <th>max</th>\n",
       "      <td>2.000000</td>\n",
       "      <td>68.000000</td>\n",
       "      <td>300.000000</td>\n",
       "      <td>18.000000</td>\n",
       "      <td>31.000000</td>\n",
       "      <td>1.000000</td>\n",
       "      <td>1.0</td>\n",
       "    </tr>\n",
       "  </tbody>\n",
       "</table>\n",
       "</div>"
      ],
      "text/plain": [
       "               sex          age         wage         educ   experience  \\\n",
       "count  1078.000000  1078.000000  1078.000000  1078.000000  1078.000000   \n",
       "mean      1.479592    39.302412   139.192950    11.449907    14.626375   \n",
       "std       0.499815    11.068010    47.357094     3.311553     8.564899   \n",
       "min       1.000000    20.000000    44.000000     0.000000     0.139000   \n",
       "25%       1.000000    30.000000   110.000000    10.000000     7.833750   \n",
       "50%       1.000000    39.000000   129.000000    12.000000    13.823500   \n",
       "75%       2.000000    48.000000   159.000000    13.000000    20.913500   \n",
       "max       2.000000    68.000000   300.000000    18.000000    31.000000   \n",
       "\n",
       "            single   const  \n",
       "count  1078.000000  1078.0  \n",
       "mean      0.258813     1.0  \n",
       "std       0.438186     0.0  \n",
       "min       0.000000     1.0  \n",
       "25%       0.000000     1.0  \n",
       "50%       0.000000     1.0  \n",
       "75%       1.000000     1.0  \n",
       "max       1.000000     1.0  "
      ]
     },
     "metadata": {},
     "output_type": "display_data"
    }
   ],
   "source": [
    "import pandas as pd\n",
    "import numpy as np\n",
    "\n",
    "# Load the data\n",
    "data = pd.read_stata(r\"../data/wage.dta\") \n",
    "data['const'] = 1\n",
    "\n",
    "# Descriptive statistics\n",
    "descriptive_stats = data.describe()\n",
    "\n",
    "# Display the descriptive statistics\n",
    "display(descriptive_stats)"
   ]
  },
  {
   "cell_type": "markdown",
   "metadata": {
    "slideshow": {
     "slide_type": "slide"
    }
   },
   "source": [
    "###  OLS estimator for den simple lineære regressions model\n",
    "Model\n",
    "$$\n",
    "y=\\beta _{0}+\\beta_{1}x+u\n",
    "$$\n",
    "\n",
    "OLS estimator (slope)\n",
    "$$\n",
    "\\hat{\\beta}_{1} = \\frac{\\sum_{i=1}^{n}(x_{i}-\\bar{x})(y_{i}-\\bar{y})}{\\sum_{i=1}^{n}(x_{i}-\\bar{x})^{2}} = \\frac{\\widehat{\\text{cov}}(x_i,y_i)}{\\widehat{\\text{var}}(x_i)} \n",
    "$$\n",
    "\n",
    "OLS estimator (intercept)\n",
    "$$\n",
    "\\hat{\\beta}_{0} = \\bar{y} - \\hat{\\beta}_{1} \\bar{x}\n",
    "$$"
   ]
  },
  {
   "cell_type": "markdown",
   "metadata": {
    "slideshow": {
     "slide_type": "slide"
    }
   },
   "source": [
    "### Simpel OLS - direkte beregning vha NumPy"
   ]
  },
  {
   "cell_type": "code",
   "execution_count": 3,
   "metadata": {
    "slideshow": {
     "slide_type": "-"
    }
   },
   "outputs": [
    {
     "name": "stdout",
     "output_type": "stream",
     "text": [
      "cov_XY:         46.7499\n",
      "var_X:          10.9562\n",
      "\n",
      "bhat0 (const):  90.3364\n",
      "bhat1 (educ):    4.2670\n"
     ]
    }
   ],
   "source": [
    "# Forbered data til OLS - konverter fra dataframe til numpy array\n",
    "y = data['wage'].values   \n",
    "X = data['educ'].values\n",
    "\n",
    "# Beregn variansen af X (educ)\n",
    "var_X = np.sum((X - np.mean(X)) ** 2) / len(X)\n",
    "\n",
    "# og kovariansen mellem X (educ) og y (wage)\n",
    "cov_XY = np.sum((X - np.mean(X)) * (y - np.mean(y))) / len(X)\n",
    "\n",
    "# OLS estimater af beta0 (intercept) og beta1 (hældning)\n",
    "bhat1 = cov_XY / var_X\n",
    "bhat0 = np.mean(y) - bhat1 * np.mean(X)\n",
    "\n",
    "# Udskriv resultater\n",
    "print(f\"cov_XY:        {cov_XY:8.4f}\")\n",
    "print(f\"var_X:         {var_X:8.4f}\\n\")\n",
    "print(f\"bhat0 (const): {bhat0:8.4f}\")\n",
    "print(f\"bhat1 (educ):  {bhat1:8.4f}\")"
   ]
  },
  {
   "cell_type": "markdown",
   "metadata": {
    "slideshow": {
     "slide_type": "slide"
    }
   },
   "source": [
    "### OLS regression ved brug af OLS fra linearmodels"
   ]
  },
  {
   "cell_type": "code",
   "execution_count": 4,
   "metadata": {
    "slideshow": {
     "slide_type": "-"
    }
   },
   "outputs": [
    {
     "ename": "ModuleNotFoundError",
     "evalue": "No module named 'linearmodels'",
     "output_type": "error",
     "traceback": [
      "\u001b[1;31m---------------------------------------------------------------------------\u001b[0m",
      "\u001b[1;31mModuleNotFoundError\u001b[0m                       Traceback (most recent call last)",
      "Cell \u001b[1;32mIn[4], line 1\u001b[0m\n\u001b[1;32m----> 1\u001b[0m \u001b[38;5;28;01mfrom\u001b[39;00m \u001b[38;5;21;01mlinearmodels\u001b[39;00m \u001b[38;5;28;01mimport\u001b[39;00m OLS\n\u001b[0;32m      3\u001b[0m \u001b[38;5;66;03m# OLS estimation vha OLS fra linearmodels\u001b[39;00m\n\u001b[0;32m      4\u001b[0m model_lm \u001b[38;5;241m=\u001b[39m OLS(data[\u001b[38;5;124m'\u001b[39m\u001b[38;5;124mwage\u001b[39m\u001b[38;5;124m'\u001b[39m], data[[\u001b[38;5;124m'\u001b[39m\u001b[38;5;124mconst\u001b[39m\u001b[38;5;124m'\u001b[39m, \u001b[38;5;124m'\u001b[39m\u001b[38;5;124meduc\u001b[39m\u001b[38;5;124m'\u001b[39m]])\u001b[38;5;241m.\u001b[39mfit(cov_type\u001b[38;5;241m=\u001b[39m\u001b[38;5;124m'\u001b[39m\u001b[38;5;124munadjusted\u001b[39m\u001b[38;5;124m'\u001b[39m) \u001b[38;5;66;03m# Bed om ols standardfejl, default er robuste\u001b[39;00m\n",
      "\u001b[1;31mModuleNotFoundError\u001b[0m: No module named 'linearmodels'"
     ]
    }
   ],
   "source": [
    "from linearmodels import OLS\n",
    "\n",
    "# OLS estimation vha OLS fra linearmodels\n",
    "model_lm = OLS(data['wage'], data[['const', 'educ']]).fit(cov_type='unadjusted') # Bed om ols standardfejl, default er robuste\n",
    "print(model_lm.summary)\n"
   ]
  },
  {
   "cell_type": "markdown",
   "metadata": {
    "slideshow": {
     "slide_type": "slide"
    }
   },
   "source": [
    "### OLS regression ved brug af OLS fra statsmodels"
   ]
  },
  {
   "cell_type": "code",
   "execution_count": 4,
   "metadata": {
    "slideshow": {
     "slide_type": "-"
    }
   },
   "outputs": [
    {
     "name": "stdout",
     "output_type": "stream",
     "text": [
      "                            OLS Regression Results                            \n",
      "==============================================================================\n",
      "Dep. Variable:                   wage   R-squared:                       0.089\n",
      "Model:                            OLS   Adj. R-squared:                  0.088\n",
      "Method:                 Least Squares   F-statistic:                     105.2\n",
      "Date:                Fri, 30 Aug 2024   Prob (F-statistic):           1.32e-23\n",
      "Time:                        02:57:14   Log-Likelihood:                -5637.5\n",
      "No. Observations:                1078   AIC:                         1.128e+04\n",
      "Df Residuals:                    1076   BIC:                         1.129e+04\n",
      "Df Model:                           1                                         \n",
      "Covariance Type:            nonrobust                                         \n",
      "==============================================================================\n",
      "                 coef    std err          t      P>|t|      [0.025      0.975]\n",
      "------------------------------------------------------------------------------\n",
      "const         90.3364      4.959     18.215      0.000      80.605     100.068\n",
      "educ           4.2670      0.416     10.255      0.000       3.451       5.083\n",
      "==============================================================================\n",
      "Omnibus:                      229.974   Durbin-Watson:                   2.039\n",
      "Prob(Omnibus):                  0.000   Jarque-Bera (JB):              464.263\n",
      "Skew:                           1.223   Prob(JB):                    1.54e-101\n",
      "Kurtosis:                       5.086   Cond. No.                         43.2\n",
      "==============================================================================\n",
      "\n",
      "Notes:\n",
      "[1] Standard Errors assume that the covariance matrix of the errors is correctly specified.\n"
     ]
    }
   ],
   "source": [
    "import statsmodels.api as sm\n",
    "\n",
    "# OLS estimation vha OLS fra statsmodels\n",
    "model_sm = sm.OLS(data['wage'], data[['const', 'educ']]).fit()\n",
    "print(model_sm.summary())"
   ]
  },
  {
   "cell_type": "markdown",
   "metadata": {
    "slideshow": {
     "slide_type": "slide"
    }
   },
   "source": [
    "# Part 2: Timeløn og uddannelse (Goodness of fit)"
   ]
  },
  {
   "cell_type": "markdown",
   "metadata": {
    "slideshow": {
     "slide_type": "slide"
    }
   },
   "source": [
    "### Godness of fit, $R^2$\n",
    "Total sum of squares (i $y$): $$SST \\equiv \\sum_{i=1}^{n}(y_{i}-\\bar{y})^{2}$$\n",
    "Explained sum of squares: $$SSE \\equiv \\sum_{i=1}^{n}(\\hat{y}_{i}-\\bar{y})^{2}$$\n",
    "Residual sum of squares: $$SSR \\equiv \\sum_{i=1}^{n}\\hat{u}_{i}^{2}$$\n",
    "Godness of fit $$R^2 \\equiv \\frac{SSE}{SST} = 1 - \\frac{SSR}{SST}$$"
   ]
  },
  {
   "cell_type": "markdown",
   "metadata": {
    "slideshow": {
     "slide_type": "slide"
    }
   },
   "source": [
    "### SST, SSE, SSR og $R^2$ - direkte beregning vha NumPy"
   ]
  },
  {
   "cell_type": "code",
   "execution_count": 5,
   "metadata": {
    "slideshow": {
     "slide_type": "-"
    }
   },
   "outputs": [
    {
     "name": "stdout",
     "output_type": "stream",
     "text": [
      "SST (Total sum of squares):          2415381.87\n",
      "SSE (Explained sum of squares):       215040.48\n",
      "SSR (Residual ssum of squares):      2200341.38\n",
      "R^2 (Goodness of fit):                   0.0890\n"
     ]
    }
   ],
   "source": [
    "# Forudsagte værdier (y-hat)\n",
    "yhat = bhat0 + bhat1 * X\n",
    "\n",
    "# Godness of fit\n",
    "SST = np.sum((y - np.mean(y)) ** 2)     # Total sum of squres\n",
    "SSE = np.sum((yhat - np.mean(y)) ** 2)  # Forklaret sum of squares\n",
    "SSR = np.sum((y - yhat) ** 2)           # Residual sum of squares\n",
    "R2 = SSE / SST                          # Forklaringsgrad\n",
    "\n",
    "# Udskriv resultater\n",
    "print(f\"SST (Total sum of squares):     {SST:15.2f}\")\n",
    "print(f\"SSE (Explained sum of squares): {SSE:15.2f}\")\n",
    "print(f\"SSR (Residual ssum of squares): {SSR:15.2f}\")\n",
    "print(f\"R^2 (Goodness of fit):          {R2:15.4f}\")\n"
   ]
  },
  {
   "cell_type": "markdown",
   "metadata": {
    "slideshow": {
     "slide_type": "slide"
    }
   },
   "source": [
    "### Sammenling med statsmodels"
   ]
  },
  {
   "cell_type": "code",
   "execution_count": 6,
   "metadata": {},
   "outputs": [
    {
     "name": "stdout",
     "output_type": "stream",
     "text": [
      "SST (Total sum of squares):          2415381.87\n",
      "SSE (Explained sum of squares):       215040.48\n",
      "SSR (Residual ssum of squares):      2200341.38\n",
      "R^2 (Goodness of fit):                   0.0890\n"
     ]
    }
   ],
   "source": [
    "# Access SST, SSE, SSR, and R^2 from model_sm\n",
    "SST_sm = model_sm.ess + model_sm.ssr  # Total Sum of Squares (SST)\n",
    "SSR_sm = model_sm.ssr                 # Residual Sum of Squares (SSR)\n",
    "SSE_sm = model_sm.ess                 # Explained Sum of Squares (SSE)\n",
    "R2_sm = model_sm.rsquared             # R^2\n",
    "print(f\"SST (Total sum of squares):     {SST_sm:15.2f}\")\n",
    "print(f\"SSE (Explained sum of squares): {SSE_sm:15.2f}\")\n",
    "print(f\"SSR (Residual ssum of squares): {SSR_sm:15.2f}\")\n",
    "print(f\"R^2 (Goodness of fit):          {R2_sm:15.4f}\")\n"
   ]
  },
  {
   "cell_type": "markdown",
   "metadata": {
    "slideshow": {
     "slide_type": "slide"
    }
   },
   "source": [
    "### Summary output for linearmodels og statsmodels\n",
    "- $R^2$ og meget andet findes i summary output \n",
    "- Men ikke TSS, ESS, RSS, og mange andre ting\n",
    "- Med NumPy kan alt lade sig gøre, hvis du kender formlen i Wooldridge"
   ]
  },
  {
   "cell_type": "code",
   "execution_count": 7,
   "metadata": {},
   "outputs": [
    {
     "name": "stdout",
     "output_type": "stream",
     "text": [
      "                            OLS Regression Results                            \n",
      "==============================================================================\n",
      "Dep. Variable:                   wage   R-squared:                       0.089\n",
      "Model:                            OLS   Adj. R-squared:                  0.088\n",
      "Method:                 Least Squares   F-statistic:                     105.2\n",
      "Date:                Fri, 30 Aug 2024   Prob (F-statistic):           1.32e-23\n",
      "Time:                        02:57:14   Log-Likelihood:                -5637.5\n",
      "No. Observations:                1078   AIC:                         1.128e+04\n",
      "Df Residuals:                    1076   BIC:                         1.129e+04\n",
      "Df Model:                           1                                         \n",
      "Covariance Type:            nonrobust                                         \n",
      "==============================================================================\n",
      "                 coef    std err          t      P>|t|      [0.025      0.975]\n",
      "------------------------------------------------------------------------------\n",
      "const         90.3364      4.959     18.215      0.000      80.605     100.068\n",
      "educ           4.2670      0.416     10.255      0.000       3.451       5.083\n",
      "==============================================================================\n",
      "Omnibus:                      229.974   Durbin-Watson:                   2.039\n",
      "Prob(Omnibus):                  0.000   Jarque-Bera (JB):              464.263\n",
      "Skew:                           1.223   Prob(JB):                    1.54e-101\n",
      "Kurtosis:                       5.086   Cond. No.                         43.2\n",
      "==============================================================================\n",
      "\n",
      "Notes:\n",
      "[1] Standard Errors assume that the covariance matrix of the errors is correctly specified.\n"
     ]
    }
   ],
   "source": [
    "print(model_sm.summary()) # uncomment to see output from statsmodels\n",
    "#print(model_lm.summary)  # uncomment to see output from linearmodels\n"
   ]
  },
  {
   "cell_type": "markdown",
   "metadata": {
    "slideshow": {
     "slide_type": "slide"
    }
   },
   "source": [
    "# Part 3: Timeløn og uddannelse (Varians og standard fejl)"
   ]
  },
  {
   "cell_type": "markdown",
   "metadata": {
    "slideshow": {
     "slide_type": "slide"
    }
   },
   "source": [
    "### Residual Varians, Variansen af OLS-estimatoren, Standardfejl\n",
    "\n",
    "Givet vores model:\n",
    "$$\n",
    "y_i = \\beta_0 + \\beta_1 x_i + u_i\n",
    "$$\n",
    "\n",
    "Residual variansen estimeres som:\n",
    "$$\n",
    "\\hat{\\sigma}^2 = \\frac{1}{n-2} \\sum_{i=1}^{n} \\hat{u}_i^2\n",
    "$$\n",
    "\n",
    "Variansen af OLS-estimatorerne:\n",
    "$$\n",
    "Var(\\hat{\\beta}_1 \\mid X) = \\frac{\\hat{\\sigma}^2}{\\sum_{i=1}^{n} (x_i - \\bar{x})^2}\n",
    "$$\n",
    "$$\n",
    "Var(\\hat{\\beta}_0 \\mid X) = \\frac{\\hat{\\sigma}^2 \\cdot \\frac{1}{n}\\sum_{i=1}^{n}x_{i}^{2}}{\\sum_{i=1}^{n}(x_i - \\bar{x})^2}\n",
    "$$\n",
    "\n",
    "Standardfejlene for OLS-estimatorerne:\n",
    "$$\n",
    "se(\\hat{\\beta}_1) = \\sqrt{Var(\\hat{\\beta}_1 \\mid X)}\n",
    "$$\n",
    "$$\n",
    "se(\\hat{\\beta}_0) = \\sqrt{Var(\\hat{\\beta}_0 \\mid X)}\n",
    "$$\n",
    "\n"
   ]
  },
  {
   "cell_type": "markdown",
   "metadata": {
    "slideshow": {
     "slide_type": "slide"
    }
   },
   "source": [
    "### Implementer disse i NumPy"
   ]
  },
  {
   "cell_type": "code",
   "execution_count": 8,
   "metadata": {
    "slideshow": {
     "slide_type": "-"
    }
   },
   "outputs": [
    {
     "name": "stdout",
     "output_type": "stream",
     "text": [
      "Parameter              Estimate      Std. Error         Varians\n",
      "----------------------------------------------------------------------\n",
      "bhat0 (const)           90.3364          4.9594         24.5957\n",
      "bhat1 (educ)             4.2670          0.4161          0.1731\n",
      "Residual Varians              -       2044.9269\n"
     ]
    }
   ],
   "source": [
    "n = len(y)\n",
    "X_mean = np.mean(X)\n",
    "X_squared_sum = np.sum(X**2)\n",
    "\n",
    "# Beregn residual varians\n",
    "residuals = y - (bhat0 + bhat1 * X)\n",
    "sigma_squared_hat = np.sum(residuals**2) / (n - 2)\n",
    "\n",
    "# Beregn varians og standardfejl for OLS-estimatorerne\n",
    "SST_x = np.sum((X - X_mean)**2)\n",
    "se_beta1 = np.sqrt(sigma_squared_hat / SST_x)\n",
    "se_beta0 = np.sqrt(sigma_squared_hat * (1/n * X_squared_sum / SST_x))\n",
    "\n",
    "# Print resultater\n",
    "print(f\"{'Parameter':<20} {'Estimate':>10} {'Std. Error':>15} {'Varians':>15}\")\n",
    "print(f\"{'-'*70}\")\n",
    "print(f\"{'bhat0 (const)':<20} {bhat0:>10.4f} {se_beta0:>15.4f} {(se_beta0**2):>15.4f}\")\n",
    "print(f\"{'bhat1 (educ)':<20} {bhat1:>10.4f} {se_beta1:>15.4f} {(se_beta1**2):>15.4f}\")\n",
    "print(f\"{'Residual Varians':<20} {'-':>10} {sigma_squared_hat:>15.4f}\")"
   ]
  },
  {
   "cell_type": "markdown",
   "metadata": {
    "slideshow": {
     "slide_type": "slide"
    }
   },
   "source": [
    "### Lad os samle alt i en funtion, som kan bruges til OLS estimation af SLR"
   ]
  },
  {
   "cell_type": "code",
   "execution_count": 2,
   "metadata": {},
   "outputs": [],
   "source": [
    "import numpy as np\n",
    "import pandas as pd\n",
    "\n",
    "\n",
    "def OLS_SLR(y, X, quiet=False):\n",
    "    # Antagelse: y og X er pandas Series\n",
    "    # Eksempel på brug af af OLS_SLR\n",
    "    # result = OLS_SLR(data['wage'], data['educ'])\n",
    "    n = len(y)\n",
    "    X_name = X.name\n",
    "    y_name = y.name\n",
    "    \n",
    "    X_mean = np.mean(X)\n",
    "    y_mean = np.mean(y)\n",
    "    X_squared_sum = np.sum(X**2)\n",
    "    \n",
    "    # Beregn beta_1 og beta_0\n",
    "    bhat1 = np.sum((X - X_mean) * (y - y_mean)) / np.sum((X - X_mean)**2)\n",
    "    bhat0 = y_mean - bhat1 * X_mean\n",
    "    \n",
    "    # Residualer og residual varians\n",
    "    residuals = y - (bhat0 + bhat1 * X)\n",
    "    SSR = np.sum(residuals**2)\n",
    "    sigma_squared_hat = SSR / (n - 2)\n",
    "    sigma_hat = np.sqrt(sigma_squared_hat)  # Kvadratrod af residual variansen\n",
    "    \n",
    "    # Beregn varians og standardfejl for OLS-estimatorerne\n",
    "    SST_x = np.sum((X - X_mean)**2)\n",
    "    se_beta1 = np.sqrt(sigma_squared_hat / SST_x)\n",
    "    se_beta0 = np.sqrt(sigma_squared_hat * (1/n + X_mean**2 / SST_x))\n",
    "    \n",
    "    # Beregn R^2, SST, SSE\n",
    "    SST = np.sum((y - y_mean)**2)\n",
    "    SSE = SST - SSR\n",
    "    R_squared = SSE / SST\n",
    "    \n",
    "    # Print output hvis quiet=False\n",
    "    if not quiet:\n",
    "        print(f\"OLS estimation of SLR model using pandas and numpy\\n\")\n",
    "        print(f\"{'Parameter':<20} {'Estimate':>10} {'Std. Error':>15} {'Variance':>15}\")\n",
    "        print(f\"{'-'*70}\")\n",
    "        print(f\"{f'bhat0 (const)':<20} {bhat0:>10.4f} {se_beta0:>15.4f} {(se_beta0**2):>15.4f}\")\n",
    "        print(f\"{f'bhat1 ({X_name})':<20} {bhat1:>10.4f} {se_beta1:>15.4f} {(se_beta1**2):>15.4f}\")\n",
    "        print(f\"\\nR^2: {R_squared:.4f}\")\n",
    "        print(f\"Residual Varians: {sigma_squared_hat:.4f}\")\n",
    "        print(f\"Sigma_hat (σ̂): {sigma_hat:.4f}\")\n",
    "        print(f\"SSR: {SSR:.4f}, SST: {SST:.4f}, SSE: {SSE:.4f}\")\n",
    "    \n",
    "    # Returner resultater\n",
    "    return {\n",
    "        'beta_0': bhat0,\n",
    "        'beta_1': bhat1,\n",
    "        'se_beta0': se_beta0,\n",
    "        'se_beta1': se_beta1,\n",
    "        'sigma_squared_hat': sigma_squared_hat,  # Residual varians\n",
    "        'sigma_hat': sigma_hat,  # Kvadratrod af residual varians\n",
    "        'R_squared': R_squared,\n",
    "        'SSR': SSR,\n",
    "        'SST': SST,\n",
    "        'SSE': SSE\n",
    "    }"
   ]
  },
  {
   "cell_type": "markdown",
   "metadata": {
    "slideshow": {
     "slide_type": "slide"
    }
   },
   "source": [
    "### Lad os nu sammenligne output fra OLS_SLR og OLS fra statsmodels"
   ]
  },
  {
   "cell_type": "code",
   "execution_count": 10,
   "metadata": {
    "scrolled": true
   },
   "outputs": [
    {
     "name": "stdout",
     "output_type": "stream",
     "text": [
      "OLS estimation of SLR model using pandas and numpy\n",
      "\n",
      "Parameter              Estimate      Std. Error        Variance\n",
      "----------------------------------------------------------------------\n",
      "bhat0 (const)           90.3364          4.9594         24.5957\n",
      "bhat1 (educ)             4.2670          0.4161          0.1731\n",
      "\n",
      "R^2: 0.0890\n",
      "Residual Varians: 2044.9269\n",
      "Sigma_hat (σ̂): 45.2209\n",
      "SSR: 2200341.3819, SST: 2415381.8664, SSE: 215040.4846\n",
      "\n",
      "Sumamry output from statsmodels\n",
      "                            OLS Regression Results                            \n",
      "==============================================================================\n",
      "Dep. Variable:                   wage   R-squared:                       0.089\n",
      "Model:                            OLS   Adj. R-squared:                  0.088\n",
      "Method:                 Least Squares   F-statistic:                     105.2\n",
      "Date:                Fri, 30 Aug 2024   Prob (F-statistic):           1.32e-23\n",
      "Time:                        02:57:14   Log-Likelihood:                -5637.5\n",
      "No. Observations:                1078   AIC:                         1.128e+04\n",
      "Df Residuals:                    1076   BIC:                         1.129e+04\n",
      "Df Model:                           1                                         \n",
      "Covariance Type:            nonrobust                                         \n",
      "==============================================================================\n",
      "                 coef    std err          t      P>|t|      [0.025      0.975]\n",
      "------------------------------------------------------------------------------\n",
      "const         90.3364      4.959     18.215      0.000      80.605     100.068\n",
      "educ           4.2670      0.416     10.255      0.000       3.451       5.083\n",
      "==============================================================================\n",
      "Omnibus:                      229.974   Durbin-Watson:                   2.039\n",
      "Prob(Omnibus):                  0.000   Jarque-Bera (JB):              464.263\n",
      "Skew:                           1.223   Prob(JB):                    1.54e-101\n",
      "Kurtosis:                       5.086   Cond. No.                         43.2\n",
      "==============================================================================\n",
      "\n",
      "Notes:\n",
      "[1] Standard Errors assume that the covariance matrix of the errors is correctly specified.\n"
     ]
    }
   ],
   "source": [
    "result = OLS_SLR(data['wage'], data['educ'])\n",
    "print(\"\\nSumamry output from statsmodels\")\n",
    "print(model_sm.summary())"
   ]
  },
  {
   "cell_type": "markdown",
   "metadata": {
    "slideshow": {
     "slide_type": "slide"
    }
   },
   "source": [
    "# Part 4: Simulationsstudie (egenskaber ved OLS estimator)"
   ]
  },
  {
   "cell_type": "markdown",
   "metadata": {
    "slideshow": {
     "slide_type": "slide"
    }
   },
   "source": [
    "### Monte Carlo Simulation: OLS Estimator Properties\n",
    "#### Experimental Design:\n",
    "- **Sample Size:** $n = 100$\n",
    "- **Number of Simulations:** $M = 1000$\n",
    "- **True Model:** $y_i = \\beta_0 + \\beta_1 x_i + u_i$, $u_i \\sim \\mathcal{N}(0, \\sigma_u^2)$\n",
    "- **Various options:**\n",
    "  - $x_i$ generated from a specified distribution (`uniform` or `normal`).\n",
    "  - Option to introduce correlation between $x_i$ and $u_i$: $\\text{corr}(x_i, u_i) \\neq 0$.\n",
    "  - Option to introduce heteroskedasticity: $\\text{Var}(u_i \\mid x_i)$ depends on $x_i$.\n",
    "- **Procedure:**\n",
    "  1. Estimate $\\hat{\\beta}_0$ and $\\hat{\\beta}_1$ in each simulation.\n",
    "  2. Analyze distributions of the estimates and their standard errors.\n",
    "\n",
    "#### Outputs:\n",
    "- Histograms of $\\hat{\\beta}_0$, $\\hat{\\beta}_1$, and their standard errors.\n",
    "- Summary table comparing mean estimates, standard deviations, and true values.\n"
   ]
  },
  {
   "cell_type": "markdown",
   "metadata": {
    "slideshow": {
     "slide_type": "slide"
    }
   },
   "source": [
    "### Monte Carlo (would take us too far to go through it in lectures)"
   ]
  },
  {
   "cell_type": "code",
   "execution_count": 3,
   "metadata": {},
   "outputs": [],
   "source": [
    "import numpy as np\n",
    "import pandas as pd\n",
    "import matplotlib.pyplot as plt\n",
    "\n",
    "def monte_carlo_OLS(n=100, M=1000, beta0=2, beta1=3, sigma_u=1, x_dist='uniform', x_params=(0, 10), \n",
    "                    corr_ux=0, heteroskedastic=False, fontsize=20, quiet=False):\n",
    "    \"\"\"\n",
    "    Monte Carlo simulation to study the properties of the OLS estimator.\n",
    "    \n",
    "    Parameters:\n",
    "        n (int): Sample size for each simulation.\n",
    "        M (int): Number of simulations.\n",
    "        beta0 (float): True value of intercept.\n",
    "        beta1 (float): True value of slope.\n",
    "        sigma_u (float): Standard deviation of the error term u.\n",
    "        x_dist (str): Distribution of X ('uniform' or 'normal').\n",
    "        x_params (tuple): Parameters for the X distribution.\n",
    "            - If 'uniform': (low, high)\n",
    "            - If 'normal': (mean, std_dev)\n",
    "        corr_ux (float): Correlation between u and x.\n",
    "        heteroskedastic (bool): If True, introduce heteroskedasticity in the error term.\n",
    "        fontsize (int): Font size for the plots.\n",
    "        quiet (bool): If True, suppress printed output.\n",
    "    \n",
    "    Returns:\n",
    "        summary_table (DataFrame): Summary of the Monte Carlo simulation results.\n",
    "    \"\"\"\n",
    "    \n",
    "    # Store estimates and standard errors\n",
    "    beta0_estimates = []\n",
    "    beta1_estimates = []\n",
    "    se_beta0_estimates = []\n",
    "    se_beta1_estimates = []\n",
    "    \n",
    "    # Generate X values based on the specified distribution\n",
    "    if x_dist == 'uniform':\n",
    "        X_generator = lambda: np.random.uniform(x_params[0], x_params[1], size=n)\n",
    "    elif x_dist == 'normal':\n",
    "        X_generator = lambda: np.random.normal(x_params[0], x_params[1], size=n)\n",
    "    else:\n",
    "        raise ValueError(\"x_dist must be 'uniform' or 'normal'\")\n",
    "    \n",
    "    # Run simulations\n",
    "    for _ in range(M):\n",
    "        X = X_generator()\n",
    "        \n",
    "        if corr_ux != 0:\n",
    "            u = np.random.normal(0, sigma_u, size=n) + corr_ux * X\n",
    "        else:\n",
    "            u = np.random.normal(0, sigma_u, size=n)\n",
    "        \n",
    "        if heteroskedastic:\n",
    "            u = u * np.abs(X)\n",
    "        \n",
    "        y = beta0 + beta1 * X + u\n",
    "        \n",
    "        result = OLS_SLR(pd.Series(y, name='y'), pd.Series(X, name='X'), quiet=True)\n",
    "        \n",
    "        beta0_estimates.append(result['beta_0'])\n",
    "        beta1_estimates.append(result['beta_1'])\n",
    "        se_beta0_estimates.append(result['se_beta0'])\n",
    "        se_beta1_estimates.append(result['se_beta1'])\n",
    "    \n",
    "    # Convert lists to arrays for easier analysis\n",
    "    beta0_estimates = np.array(beta0_estimates)\n",
    "    beta1_estimates = np.array(beta1_estimates)\n",
    "    se_beta0_estimates = np.array(se_beta0_estimates)\n",
    "    se_beta1_estimates = np.array(se_beta1_estimates)\n",
    "    \n",
    "    # Plot histograms for beta0 and beta1 estimates\n",
    "    plt.figure(figsize=(12, 4))\n",
    "    \n",
    "    plt.subplot(1, 2, 1)\n",
    "    plt.hist(beta0_estimates, bins=30, edgecolor='black', alpha=0.7)\n",
    "    plt.axvline(beta0, color='red', linestyle='dashed', linewidth=2)\n",
    "    plt.title(r'Histogram of $\\hat{\\beta}_0$', fontsize=fontsize)\n",
    "    plt.xlabel(r'$\\hat{\\beta}_0$', fontsize=fontsize)\n",
    "    plt.ylabel('Frequency', fontsize=fontsize)\n",
    "    \n",
    "    plt.subplot(1, 2, 2)\n",
    "    plt.hist(beta1_estimates, bins=30, edgecolor='black', alpha=0.7)\n",
    "    plt.axvline(beta1, color='red', linestyle='dashed', linewidth=2)\n",
    "    plt.title(r'Histogram of $\\hat{\\beta}_1$', fontsize=fontsize)\n",
    "    plt.xlabel(r'$\\hat{\\beta}_1$', fontsize=fontsize)\n",
    "    plt.ylabel('Frequency', fontsize=fontsize)\n",
    "    \n",
    "    plt.tight_layout()\n",
    "    plt.show()\n",
    "    \n",
    "    # Plot histograms for standard errors\n",
    "    plt.figure(figsize=(12, 4))\n",
    "    \n",
    "    plt.subplot(1, 2, 1)\n",
    "    plt.hist(se_beta0_estimates, bins=30, edgecolor='black', alpha=0.7)\n",
    "    plt.axvline(np.std(beta0_estimates), color='red', linestyle='dashed', linewidth=2)\n",
    "    plt.title(r'Histogram of Standard Errors of $\\hat{\\beta}_0$', fontsize=fontsize)\n",
    "    plt.xlabel(r'Standard Error of $\\hat{\\beta}_0$', fontsize=fontsize)\n",
    "    plt.ylabel('Frequency', fontsize=fontsize)\n",
    "    \n",
    "    plt.subplot(1, 2, 2)\n",
    "    plt.hist(se_beta1_estimates, bins=30, edgecolor='black', alpha=0.7)\n",
    "    plt.axvline(np.std(beta1_estimates), color='red', linestyle='dashed', linewidth=2)\n",
    "    plt.title(r'Histogram of Standard Errors of $\\hat{\\beta}_1$', fontsize=fontsize)\n",
    "    plt.xlabel(r'Standard Error of $\\hat{\\beta}_1$', fontsize=fontsize)\n",
    "    plt.ylabel('Frequency', fontsize=fontsize)\n",
    "    \n",
    "    plt.tight_layout()\n",
    "    plt.show()\n",
    "    \n",
    "    # Create a summary table\n",
    "    summary_table = pd.DataFrame({\n",
    "        'Parameter': ['beta0', 'beta1'],\n",
    "        'True Value': [beta0, beta1],\n",
    "        'Mean Estimate': [np.mean(beta0_estimates), np.mean(beta1_estimates)],\n",
    "        'MC Standard Deviation': [np.std(beta0_estimates), np.std(beta1_estimates)],\n",
    "        'Average SE': [np.mean(se_beta0_estimates), np.mean(se_beta1_estimates)]\n",
    "    })\n",
    "    \n",
    "    if not quiet:\n",
    "        print(summary_table)\n",
    "    \n",
    "    return summary_table"
   ]
  },
  {
   "cell_type": "markdown",
   "metadata": {
    "slideshow": {
     "slide_type": "slide"
    }
   },
   "source": [
    "### Undersøg OLS-estimatorens Egenskaber\n",
    "\n",
    "#### Quiz: Undersøg OLS-estimatorens Egenskaber\n",
    "\n",
    "Brug Monte Carlo-simulationskoden til at undersøge følgende scenarier. Besvar spørgsmålene ud fra dine observationer:\n",
    "\n",
    "1. Ser OLS-estimaterne ud til at være middelrette i små stikprøver? Hvad med standardfejlene?\n",
    "2. Hvordan påvirker en øget varians i $x$ variansen og standardfejlen af $\\hat{\\beta}_1$?\n",
    "3. Hvad sker der med variansen og standardfejlen af $\\hat{\\beta}_1$, når variansen af $u$ øges?\n",
    "4. Hvordan påvirker en forøgelse af stikprøvestørrelsen $n$ variansen og standardfejlen af $\\hat{\\beta}_1$?\n",
    "5. Hvordan påvirker introduktion af korrelation mellem $x$ og $u$ ($\\text{corr}(x, u) \\neq 0$) skævheden og variansen af $\\hat{\\beta}_1$?\n",
    "6. Undersøg effekterne af heteroskedasticitet på standardfejlene af $\\hat{\\beta}_0$ og $\\hat{\\beta}_1$. Hvilke forskelle observerer du sammenlignet med den homoskedastiske case?\n",
    "\n",
    "#### Instruktioner:\n",
    "- Juster parametrene i simulationskoden og kør flere eksperimenter.\n",
    "- Analyser de genererede histogrammer og opsummeringstabeller.\n",
    "- Sammenlign de empiriske resultater med de teoretiske forventninger, vi har diskuteret i undervisningen.\n"
   ]
  },
  {
   "cell_type": "markdown",
   "metadata": {},
   "source": [
    "For at ændre variansen i x, i koden nedenfor, kan vi det andet tal i x_params.\n",
    "\n",
    "For at ændre variansen af u, kan vi ændre sigma_u\n",
    "\n",
    "4. Den bliver mindre.\n",
    "\n",
    "5. Den bliver bias."
   ]
  },
  {
   "cell_type": "markdown",
   "metadata": {
    "slideshow": {
     "slide_type": "slide"
    }
   },
   "source": [
    "### Lad os undersøge egenskaberne ved OLS og OLS standardfejlene"
   ]
  },
  {
   "cell_type": "code",
   "execution_count": 10,
   "metadata": {},
   "outputs": [
    {
     "data": {
      "image/png": "[encoded data removed]",
      "text/plain": [
       "<Figure size 1200x400 with 2 Axes>"
      ]
     },
     "metadata": {},
     "output_type": "display_data"
    },
    {
     "data": {
      "image/png": "[encoded data removed]",
      "text/plain": [
       "<Figure size 1200x400 with 2 Axes>"
      ]
     },
     "metadata": {},
     "output_type": "display_data"
    },
    {
     "name": "stdout",
     "output_type": "stream",
     "text": [
      "  Parameter  True Value  Mean Estimate  MC Standard Deviation  Average SE\n",
      "0     beta0           2       2.023964               1.008458    1.003723\n",
      "1     beta1           3       2.996798               0.174884    0.174084\n"
     ]
    }
   ],
   "source": [
    "# Modify parameter and run the code\n",
    "summary = monte_carlo_OLS(\n",
    "    n=100, M=5000, beta0=2, beta1=3, sigma_u=1, \n",
    "    x_dist='uniform', x_params=(0, 10), \n",
    "    corr_ux=0.0, heteroskedastic=False, quiet=False)\n"
   ]
  },
  {
   "cell_type": "code",
   "execution_count": null,
   "metadata": {},
   "outputs": [],
   "source": []
  }
 ],
 "metadata": {
  "celltoolbar": "Slideshow",
  "date": 1602643870.398518,
  "filename": "38_optimization.rst",
  "kernelspec": {
   "display_name": "Python 3 (ipykernel)",
   "language": "python",
   "name": "python3"
  },
  "language_info": {
   "codemirror_mode": {
    "name": "ipython",
    "version": 3
   },
   "file_extension": ".py",
   "mimetype": "text/x-python",
   "name": "python",
   "nbconvert_exporter": "python",
   "pygments_lexer": "ipython3",
   "version": "3.12.3"
  },
  "title": "Foundations of Computational Economics #38"
 },
 "nbformat": 4,
 "nbformat_minor": 4
}

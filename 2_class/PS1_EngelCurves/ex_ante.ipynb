{
 "cells": [
  {
   "cell_type": "markdown",
   "metadata": {},
   "source": [
    "# Problem Set 1\n"
   ]
  },
  {
   "cell_type": "markdown",
   "metadata": {},
   "source": [
    "## An econometric analysis of Engel curves for Canadian households\n",
    "The aim of problem sets 1 and 2 is to carry out an empirical analysis of Engel curves. As\n",
    "you know from Micro A, Engel curves describe how demand for individual products or a\n",
    "group of products depend on income at given prices. For this analysis, we will use a data\n",
    "set containing information on a large number of Canadian households. The data file is included with this Jupyter Notebook in the PS1 folder on GitHub.\n",
    "\n",
    "The econometric analysis includes several steps. Problem set 1 focuses on selecting, transforming and describing the relevant variables for the analysis. In Problem set 2, we estimate\n",
    "Engel curves using regression analysis and relate the results to economic theory.\n",
    "In order to develop a bit the intution, the following plot illustrates Engel curves for necessities vs luxuries:\n",
    "\n",
    "![Engel Curves](./engel_curves.png)\n",
    "\n",
    "\n",
    "### Data\n",
    "\n",
    "The data are taken from the Canadian Consumer Expenditure Survey. Selected households\n",
    "from 5 regions of Canada have kept a diary of all their expenses for a period of two weeks\n",
    "in 1992. These expenses have been combined in a number of categories. Our data contains\n",
    "the following 11 expenditure categories:\n",
    "\n",
    "| **Expenditure Category** | **Description**                                                    |\n",
    "|----------|--------------------------------------------------------------------|\n",
    "| fath     | Food (food at home)                                                |\n",
    "| rest     | Restaurant                                                         |\n",
    "| hhop     | Phone, cleaning, childcare, electricity, water (household operations) |\n",
    "| wcloth   | Women’s clothing                                                   |\n",
    "| mcloth   | Men’s clothing                                                     |\n",
    "| caruse   | Consumption for car use                                            |\n",
    "| tran     | Transportation                                                     |\n",
    "| care     | Medicine, doctor, and dentist                                      |\n",
    "| recr     | Recreation                                                         |\n",
    "| tob      | Tobacco                                                            |\n",
    "| alc      | Alcohol                                                            |\n",
    "\n",
    "\n",
    "In the data set, the variables are named such that _xcategory_ refers to expenditures in that\n",
    "particular _category_. E.g., the _xfath_-variable indicates expenditures on food. In problem set\n",
    "1, we will focus on an analysis of food, alcohol and men’s and women’s clothing.\n",
    "\n",
    "To make the analysis as simple as possible, the data set is restricted to include observations of a cross-section collected in 1992. The cross-section contains only singles without\n",
    "children (i.e., households with only one member).\n",
    "\n",
    "The data set also contains some demographic information. We will use the variable _dmale =\n",
    "1_ if the person is male, _dmale = 0_ if the person is female. The fact that the survey was conducted in 1992 might help explain why it does not include indicator variables for any other genders.\n",
    "\n"
   ]
  },
  {
   "cell_type": "markdown",
   "metadata": {},
   "source": [
    "## Group work\n",
    "Discuss the questions below in groups of max 3 people. Each group should first choose a\n",
    "spokesperson who reports for the group in the subsequent class discussion. The teacher is\n",
    "present and can help clarify issues as you go along.\n",
    "\n",
    "A crucial step in an econometric analysis is to ”translate” economic theory in order to\n",
    "relate it to data and empirical measures. Among other things, this requires you to consider\n",
    "which variables you want to use in the analysis, and whether to transform them or construct\n",
    "new variables."
   ]
  },
  {
   "cell_type": "markdown",
   "metadata": {},
   "source": [
    " ### Question 1: Recap of demand theory from Micro A\n",
    "Consider an economy with $N$ different goods.\n",
    "- Let $p_i$ denote the price of good $i \\in \\{1, 2, ..., N\\}$ \n",
    "- Let $x_i$ denote the amount of units of good $i$ a person demands/consumes (if good $i$ is tomatoes, $x_i$ is the number of tomatoes a person purchases)\n",
    "---\n",
    "\n",
    "**Task:**\n",
    "1. What would we call the variable $p_i x_i$? (what is the interpretation?)\n",
    "\n",
    "1. What would we call $\\sum p_i x_i$?\n",
    "\n",
    "1. What would we call $w_i = p_i x_i / \\sum p_i x_i$ ?\n",
    "\n",
    "**Your answer:**"
   ]
  },
  {
   "cell_type": "markdown",
   "metadata": {},
   "source": [
    "1. Udgifter på gode i\n",
    "\n",
    "2. Totale udgifter\n",
    "\n",
    "3. Det er andellen af alle udgifterne der er brugt på gode i."
   ]
  },
  {
   "cell_type": "markdown",
   "metadata": {},
   "source": [
    "### Question 2: Preparing our analysis\n",
    "Assume that we want to analyze the correlation between the demand for alcohol and household income.\n",
    "\n",
    "Remember that household income $Y$ in a period can be deconstructed as $Y = C + S$ where $C$ is total consumption in the period and $S$ is savings.\n",
    "\n",
    "In this dataset, we observe consumption, but neither income nor savings. If we assume $S=0$, we can use consumption as proxy for household income in the observed period. This simplifies the problem, as we don't have to take into account intertemporal saving behaviour.\n",
    "\n",
    "---\n",
    "**Task:**\n",
    "1. How would we compute the total expenditure for an individual in the dataset?\n",
    "\n",
    "1. Do we know the prices of the individual goods in the dataset? (can we isolate $p_i$)?\n",
    "\n",
    "1. What are some advantages of working with expenditure shares instead of expenditure in absolute terms?\n",
    "\n",
    "1. All households in the survey are single-member – in other words: only one person lives in each household. Why is this an advantage in terms of our empirical analysis?\n",
    "\n",
    "**Your answer:**"
   ]
  },
  {
   "cell_type": "markdown",
   "metadata": {},
   "source": [
    "1. Da vi antager at savings=0, er inkomst=forbrug (Y=C). Endvidere har vi antaget at der kun er en person i hver husstand, dermed er den totale udgift for en husstand det samme som totale udgifter for en individ. De totale udgifter for en individuel i datasættet findes ved at summe over alle kategorierne der er i brug:\n",
    "xfath + xalc + xmcloth + xwcloth"
   ]
  },
  {
   "cell_type": "markdown",
   "metadata": {},
   "source": [
    "## Python exercise: Descriptive analysis\n",
    "After having identified the relevant variables, it is time to take a look at the data. A\n",
    "descriptive analysis should be the first step in any empirical analysis. The aim is both to get\n",
    "an overview of the structure of data and also to check whether the data ”looks reasonable”.\n",
    "Often, the data is put together from multiple sources or is drawn from a larger data set. It\n",
    "therefore makes sense to look whether all relevant observations and variables are included\n",
    "(e.g. are there both men and women in our dataset? Is there information on all relevant\n",
    "consumption categories? Are there observations with errors such as negative consumption\n",
    "values?). This initial descriptive analysis is the focus of the first Python exercise.\n"
   ]
  },
  {
   "cell_type": "markdown",
   "metadata": {},
   "source": [
    "### Exercise 1: Load the data\n",
    "Data is in the file _engel.dta_ which is included in the PS1 folder on GitHub. \n",
    "\n",
    "To work with the data in Python, we will use the Pandas library, which you can import using this command: \n",
    "```py\n",
    "import pandas as pd\n",
    "```\n",
    "\n",
    "Then, you can load the dataset as a Pandas DataFrame using the command:\n",
    "```py\n",
    "pd.read_stata('engel.dta')\n",
    "``` \n",
    "Note that the data file must be located in the same folder as this notebook – otherwise, you have to adjust the relative path accordingly.\n",
    "\n",
    "Make sure to assign the DataFrame to a variable so we can access it later. You can name the DataFrame variable anything you like, but often we use `df`.\n",
    "\n",
    "---\n",
    "\n",
    "**Task:** Load the data and assign it to a variable\n",
    "\n",
    "**Your code:**"
   ]
  },
  {
   "cell_type": "code",
   "execution_count": 4,
   "metadata": {},
   "outputs": [],
   "source": [
    "import pandas as pd\n",
    "df = pd.read_stata('engel.dta')"
   ]
  },
  {
   "cell_type": "markdown",
   "metadata": {},
   "source": [
    "### Exercise 2: Examine the data\n",
    "You can get an overview of the data by calling the variable you assigned the DataFrame to. If you named the variable `df`, you simply run the command `df` to get an overview.\n",
    "\n",
    "A few basic Pandas tips:\n",
    "\n",
    "- To see the names of the variables in the dataframe, you can run `df.columns`\n",
    "\n",
    "- To get the dimensions of a DataFrame, you can use `df.shape`\n",
    "\n",
    "- To access a specific column (for example, the _xalc_ column), you can either use `df['xalc']` or `df.xalc`\n",
    "\n",
    "If you want to create a view of the DataFrame where you only see a list of specific variables, you can index the DataFrame using a list of labels. For example, to create a view that only shows the alcohol, tobacco and recreation expenditures, you can use the code:\n",
    "\n",
    "```py\n",
    "vars = ['xalc', 'xtob', 'xrecr']\n",
    "df[vars]\n",
    "```\n",
    "or alternatively the one-liner:\n",
    "```py\n",
    "df[['xalc', 'xtob', 'xrecr']]\n",
    "```\n",
    "\n",
    "You can also index the DataFrame based on conditional logic. This is basically the same thing as using a filter in Excel. For example, if I want to only see the households where tobacco consumption is greater than 500, I would use the code:\n",
    "```py\n",
    "I = df.xtob > 500\n",
    "df[I]\n",
    "```\n",
    "\n",
    "The first line above creates a boolean vector `I` that is True or False for each household depending on whether their tobacco consumption is greater than 500 or not. In the second line, I use this vector to 'filter' the DataFrame so only the households satisfying the condition show up in the resulting view.\n",
    "\n",
    "This can also be done in a one-liner:\n",
    "```py\n",
    "df[df.xtob > 500]\n",
    "```\n",
    "It is possible to combine multiple 'filters':\n",
    "```py\n",
    "df[(df.xtob > 500) & (df.xalc < 1000)]\n",
    "```\n",
    "---\n",
    "**Task:** Now, using the tools described above, answer these questions:\n",
    "1. How many households are there in the data set? \n",
    "\n",
    "1. What information is provided for each household? \n",
    "\n",
    "1. How many households spent more than 3000 on food expenditures during the survey?\n",
    "\n",
    "1. Are there households with negative food expenditures, and is it realistic? The purpose of this question is to verify that the data does not contain error observations.\n",
    "\n",
    "\n",
    "\n",
    "\n",
    "**Your code:**\n"
   ]
  },
  {
   "cell_type": "code",
   "execution_count": 5,
   "metadata": {},
   "outputs": [
    {
     "name": "stdout",
     "output_type": "stream",
     "text": [
      "450\n",
      "Index(['year', 'province', 'hgy', 'hage', 'nety', 'xfath', 'xrest', 'xhhop',\n",
      "       'xwcloth', 'xmcloth', 'xtran', 'xcare', 'xrecr', 'xtob', 'xalc',\n",
      "       'pfath', 'prest', 'phhop', 'ptran', 'precr', 'ptob', 'palc', 'pwcloth',\n",
      "       'pmcloth', 'dmale', 'down', 'dcity', 'dcar', 'dhlangf', 'dhlango',\n",
      "       'dheduc', 'dhoccup', 'xcaruse', 'pcaruse', 'pcare', 'stonep', 'price',\n",
      "       'rxtot', 'xtot', 'wfath', 'wwcloth', 'wmcloth', 'walc'],\n",
      "      dtype='object')\n",
      "     year  province      hgy  hage     nety   xfath   xrest   xhhop  xwcloth  \\\n",
      "3    92.0       3.0  55296.0  39.0  40296.0  3060.0  1010.0   780.0   3950.0   \n",
      "17   92.0       3.0  54677.0  30.0  40509.0  3030.0   450.0   576.0   1400.0   \n",
      "43   92.0       3.0  42000.0  39.0  34260.0  3200.0  9200.0   747.0   1615.0   \n",
      "47   92.0       4.0  46300.0  26.0  34355.0  3540.0   710.0   459.0   3115.0   \n",
      "70   92.0       4.0  20221.0  28.0  18221.0  3600.0  1900.0  1458.0   1686.0   \n",
      "..    ...       ...      ...   ...      ...     ...     ...     ...      ...   \n",
      "418  92.0       4.0  30180.0  25.0  23108.0  3150.0  1086.0  1297.0      0.0   \n",
      "423  92.0       1.0  45000.0  32.0  33000.0  4500.0   200.0   985.0      0.0   \n",
      "424  92.0       4.0  25664.0  43.0  20360.0  4160.0     0.0  1432.0      0.0   \n",
      "430  92.0       1.0  47800.0  25.0  34868.0  3150.0  1770.0  1298.0      0.0   \n",
      "438  92.0       3.0  57275.0  35.0  41275.0  3370.0  2300.0  1067.0      0.0   \n",
      "\n",
      "     xmcloth  ...     pcaruse       pcare    stonep       price      rxtot  \\\n",
      "3        0.0  ...  284.803314  223.677643  5.405071  222.531967  59.991383   \n",
      "17       0.0  ...  284.803314  223.677643  5.605455  271.905731  46.104214   \n",
      "43       0.0  ...  284.803314  223.677643  5.503951  245.660522  81.571915   \n",
      "47       0.0  ...  228.363876  203.841293  5.378333  216.660721  58.926231   \n",
      "70       0.0  ...  228.363876  203.841293  5.467765  236.930145  67.678177   \n",
      "..       ...  ...         ...         ...       ...         ...        ...   \n",
      "418   1721.0  ...  228.363876  203.841293  5.548203  256.775726  68.997955   \n",
      "423   1315.0  ...  236.936798  197.392685  5.428602  227.830460  89.461258   \n",
      "424    565.0  ...  228.363876  203.841293  5.601243  270.762634  43.137413   \n",
      "430   1180.0  ...  236.936798  197.392685  5.416455  225.079865  70.988136   \n",
      "438    900.0  ...  284.803314  223.677643  5.529025  251.898209  84.244347   \n",
      "\n",
      "        xtot     wfath   wwcloth   wmcloth      walc  \n",
      "3    13350.0  0.229213  0.295880  0.000000  0.008240  \n",
      "17   12536.0  0.241704  0.111678  0.000000  0.151563  \n",
      "43   20039.0  0.159689  0.080593  0.000000  0.000000  \n",
      "47   12767.0  0.277277  0.243988  0.000000  0.021932  \n",
      "70   16035.0  0.224509  0.105145  0.000000  0.020954  \n",
      "..       ...       ...       ...       ...       ...  \n",
      "418  17717.0  0.177795  0.000000  0.097138  0.162330  \n",
      "423  20382.0  0.220783  0.000000  0.064518  0.043764  \n",
      "424  11680.0  0.356164  0.000000  0.048373  0.151370  \n",
      "430  15978.0  0.197146  0.000000  0.073852  0.000000  \n",
      "438  21221.0  0.158805  0.000000  0.042411  0.082465  \n",
      "\n",
      "[65 rows x 43 columns]\n",
      "Empty DataFrame\n",
      "Columns: [year, province, hgy, hage, nety, xfath, xrest, xhhop, xwcloth, xmcloth, xtran, xcare, xrecr, xtob, xalc, pfath, prest, phhop, ptran, precr, ptob, palc, pwcloth, pmcloth, dmale, down, dcity, dcar, dhlangf, dhlango, dheduc, dhoccup, xcaruse, pcaruse, pcare, stonep, price, rxtot, xtot, wfath, wwcloth, wmcloth, walc]\n",
      "Index: []\n",
      "\n",
      "[0 rows x 43 columns]\n"
     ]
    }
   ],
   "source": [
    "#1\n",
    "print(df.shape[0])\n",
    "\n",
    "#2\n",
    "print(df.columns)\n",
    "\n",
    "#3\n",
    "print(df[df.xfath > 3000])\n",
    "\n",
    "\n",
    "#4\n",
    "print(df[df.xfath < 0])\n"
   ]
  },
  {
   "cell_type": "markdown",
   "metadata": {},
   "source": [
    "**Your comments (explain your answers in plain text):**"
   ]
  },
  {
   "cell_type": "markdown",
   "metadata": {},
   "source": [
    "1. Der er 450 husstander i datasættet.\n",
    "\n",
    "2. Vi har informationer om alle variablerne som ses i svaret til spørgsmål 2, som er lig alle kolonnerne i datasættet.\n",
    "\n",
    "3. Der er 10 husstander der bruger mere end 3000 på mad udgifter.\n",
    "\n",
    "4. Der er ingen hustsand der bruger mindre end 0kr på mad udgifter, hvilket er realistiskt, da man ikke kan forvente at nogen bruger en negativ mængde penger på mad. Så der er ikke den feil i datasættet"
   ]
  },
  {
   "cell_type": "markdown",
   "metadata": {},
   "source": [
    "### Exercise 3: Compute total expenditure\n",
    "\n",
    "We can add new variables (columns) to a DataFrame in a similar way to how we assign values to other variables in Python.\n",
    "\n",
    "For instance, if we wanted to add a variable to the DataFrame containing the total clothing expenditures for each household, we could use this code: \n",
    "```py\n",
    "df['xcloth_total'] = df['xwcloth'] + df['xmcloth']\n",
    "``` \n",
    "\n",
    "This creates a new variable in the DataFrame called _xcloth_total_ that contains the sum of the expenditures on men's clothing and women's clothing for each household.\n",
    "\n",
    "If we want to calculate a sum across many variables, we can first create a view of our DataFrame containing just those variables, and then use the `.sum()` method. For example, we could compute the sum of alcohol, tobacco and recreation expenses using the code:\n",
    "```py\n",
    "vars = ['xtob', 'xalc', 'xrecr']\n",
    "df[vars].sum(axis=1)\n",
    "```\n",
    "The argument `axis=1` tells Pandas to compute the horizontal sum instead of the vertical sum in the DataFrame. Specifying `axis=0` would take the sum across all observations instead of across the chosen variables. Be aware that if you just use `.sum()` without specifying the axis, it will default to 0.\n",
    "\n",
    "\n",
    "\n",
    "---\n",
    "**Task:** Now, construct a variable in the DataFrame for total expenditures across all 11 expenditure categories.\n",
    "\n",
    "**Your code:**"
   ]
  },
  {
   "cell_type": "code",
   "execution_count": 6,
   "metadata": {},
   "outputs": [
    {
     "data": {
      "text/plain": [
       "Index(['year', 'province', 'hgy', 'hage', 'nety', 'xfath', 'xrest', 'xhhop',\n",
       "       'xwcloth', 'xmcloth', 'xtran', 'xcare', 'xrecr', 'xtob', 'xalc',\n",
       "       'pfath', 'prest', 'phhop', 'ptran', 'precr', 'ptob', 'palc', 'pwcloth',\n",
       "       'pmcloth', 'dmale', 'down', 'dcity', 'dcar', 'dhlangf', 'dhlango',\n",
       "       'dheduc', 'dhoccup', 'xcaruse', 'pcaruse', 'pcare', 'stonep', 'price',\n",
       "       'rxtot', 'xtot', 'wfath', 'wwcloth', 'wmcloth', 'walc',\n",
       "       'xtotal_expenditures'],\n",
       "      dtype='object')"
      ]
     },
     "execution_count": 6,
     "metadata": {},
     "output_type": "execute_result"
    }
   ],
   "source": [
    "vars = ['xfath', 'xrest', 'xhhop', 'xwcloth', 'xmcloth', 'xtran', 'xcare', 'xrecr', 'xtob', 'xalc', 'xtot']\n",
    "\n",
    "df['xtotal_expenditures'] = df[vars].sum(axis=1)\n",
    "\n",
    "df.columns"
   ]
  },
  {
   "cell_type": "markdown",
   "metadata": {},
   "source": [
    "### Exercise 4: Construct expenditure shares for food, clothes and alcohol\n",
    "**Task:** Create three new variables in the DataFrame where you compute the expenditure share for the food, clothes and alcohol categories. In other words: Calculate how big a percentage of the total expenditures each of these categories constitute.\n",
    "\n",
    "\n"
   ]
  },
  {
   "cell_type": "markdown",
   "metadata": {},
   "source": [
    "**Your code:**"
   ]
  },
  {
   "cell_type": "code",
   "execution_count": 7,
   "metadata": {},
   "outputs": [
    {
     "name": "stdout",
     "output_type": "stream",
     "text": [
      "0       3.898373\n",
      "1      14.362943\n",
      "2      10.734621\n",
      "3      12.699730\n",
      "4       8.054772\n",
      "         ...    \n",
      "445     9.472366\n",
      "446     7.991925\n",
      "447     3.141425\n",
      "448     6.711855\n",
      "449    12.845635\n",
      "Name: xfath_per, Length: 450, dtype: float64\n",
      "0      13.420263\n",
      "1       7.896968\n",
      "2       3.943807\n",
      "3      16.393443\n",
      "4      10.430930\n",
      "         ...    \n",
      "445     4.697041\n",
      "446     2.597789\n",
      "447     3.096116\n",
      "448     4.319511\n",
      "449     5.486610\n",
      "Name: xcloth_total_per, Length: 450, dtype: float64\n",
      "0      2.374871\n",
      "1      2.119992\n",
      "2      0.000000\n",
      "3      0.456526\n",
      "4      0.704793\n",
      "         ...   \n",
      "445    0.365325\n",
      "446    1.025879\n",
      "447    8.228116\n",
      "448    6.612174\n",
      "449    2.013934\n",
      "Name: xalc_per, Length: 450, dtype: float64\n"
     ]
    }
   ],
   "source": [
    "df['xfath_per'] = (df['xfath']/df['xtotal_expenditures'] )*100\n",
    "print(df['xfath_per'])\n",
    "\n",
    "df['xcloth_total'] = df['xwcloth'] + df['xmcloth']\n",
    "\n",
    "df['xcloth_total_per'] = (df['xcloth_total']/df['xtotal_expenditures'] )*100\n",
    "print(df['xcloth_total_per'])\n",
    "\n",
    "df['xalc_per'] = (df['xalc']/df['xtotal_expenditures'] )*100\n",
    "print(df['xalc_per'])"
   ]
  },
  {
   "cell_type": "markdown",
   "metadata": {},
   "source": [
    "### Exercise 5: Explore the data using scatter plots\n"
   ]
  },
  {
   "cell_type": "markdown",
   "metadata": {},
   "source": [
    "To make visualizations based on Pandas DataFrames, we can use the library Seaborn. You can import Seaborn using the code:\n",
    "\n",
    "```python\n",
    "import seaborn as sns\n",
    "```\n",
    "\n",
    "To create a scatterplot using seaborn, we use the `sns.scatterplot()` method. This method allows us to specify a variable for the x-axis, for the y-axis and the DataFrame to grab the data from. For example, to explore the relationship between alcohol and tobaco consumption,  we can specify: \n",
    "\n",
    "```python\n",
    "sns.scatterplot(x='xalc', y='xtob', data=df)\n",
    "```\n",
    "\n",
    "To learn more about how to use this method, you can run the code `?sns.scatterplot`. This is a great way of exploring various methods included in other libraries (such as Pandas) too.\n",
    "\n",
    "If we want to create multiple scatterplots where we subdivide the data based on a category (for example, by gender), we can use the method `sns.relplot()` instead of `sns.scatterplot()`. The syntax for `sns.relplot()` is very similar, but it allows us to add an extra `col` argument to specify which variable we should use to categorize the data. For example, to explore the relationship between alcohol and tobaco consumption by gender, we can use this command: \n",
    "\n",
    "```python\n",
    "sns.relplot(x='xalc', y='xtob', col='dmale', data=df)\n",
    "```\n",
    "Remember: the variable _dmale_ indicates if a person is male (1) or woman (0).\n",
    "\n",
    "You can learn more about Seaborn in general here: https://seaborn.pydata.org/tutorial/introduction.html\n",
    "\n",
    "---"
   ]
  },
  {
   "cell_type": "markdown",
   "metadata": {},
   "source": [
    "**Task:** Now, plot the expenditure share on food against total\n",
    "expenditures for men and women, respectively. Do the same for expenditure shares on\n",
    "clothes and alcohol.\n",
    "Do you generally see a positive, negative or no correlation between the expenditure\n",
    "share on food (clothing, alcohol) and total expenditures?\n",
    "\n"
   ]
  },
  {
   "cell_type": "markdown",
   "metadata": {},
   "source": [
    "**Your code:**"
   ]
  },
  {
   "cell_type": "code",
   "execution_count": 8,
   "metadata": {},
   "outputs": [
    {
     "data": {
      "text/plain": [
       "<seaborn.axisgrid.FacetGrid at 0x2157f3d75f0>"
      ]
     },
     "execution_count": 8,
     "metadata": {},
     "output_type": "execute_result"
    },
    {
     "data": {
      "image/png": "[encoded data removed]",
      "text/plain": [
       "<Figure size 1000x500 with 2 Axes>"
      ]
     },
     "metadata": {},
     "output_type": "display_data"
    }
   ],
   "source": [
    "import seaborn as sns\n",
    "\n",
    "sns.relplot(x='xfath_per', y='xtotal_expenditures', col='dmale', data=df)"
   ]
  },
  {
   "cell_type": "markdown",
   "metadata": {},
   "source": [
    "**Your comments (explain your answers in plain text):**"
   ]
  },
  {
   "cell_type": "markdown",
   "metadata": {},
   "source": [
    "Gererelt ses fra vores scatterplots, at for både mænd og kvilden gælder, at jo højere totale udgifter en person har, jo mindre en procentdel af udgifterne bliver brugt på mad."
   ]
  },
  {
   "cell_type": "markdown",
   "metadata": {},
   "source": [
    "\n",
    "\n",
    "### Exercise 6: Do a brief descriptive analysis\n",
    "We can easily compute summary statistics (such as the mean, standard deviation and different quantiles) for variables in a Pandas DataFrame by using the `df.describe()` method.\n",
    "\n",
    "If we want to group the data by some category, e.g. gender, we can use the method `df.groupby('dmale')` before we use the `.describe()` method. \n",
    "\n",
    "Alternatively, we can manually limit the DataFrame view to a specific category before we use the describe method. Then we need to do two tables:\n",
    "```py\n",
    "df[df.dmale == 1].describe()\n",
    "df[df.dmale == 0].describe()\n",
    "```\n",
    "\n",
    "Before using the `.describe()` method, we usually need to create a view where we narrow down our DataFrame so it only shows the variables of interest. Otherwise, the resulting table becomes way too big – especially when we also group by categories. If for example we want to compute descriptive statistics for only the alcohol, tobacco and recreation expenditure variables, you can use the code:\n",
    "```py\n",
    "vars = ['xalc', 'xtob', 'xrecr']\n",
    "df[vars].describe()\n",
    "```\n",
    "or you  can do a one-liner:\n",
    "```py\n",
    "df[['xalc', 'xtob', 'xrecr']].describe()\n",
    "```\n",
    "\n",
    "**Tip:** If you still end up having too many variables to comfortably fit on the screen, it can sometimes help to transpose the table – such that the variables are the rows and the statistics are the columns. To do this, simply add `.T` at the end of your command: `df.describe().T`.\n",
    "\n",
    "**Tip:** If you want to round the output of a Pandas DataFrame to 3 decimal points, you can add `.round(3)` at the end of your command: `df.describe().round(3)`\n",
    "\n",
    "---"
   ]
  },
  {
   "cell_type": "markdown",
   "metadata": {},
   "source": [
    "**Task:** Now, carry out a brief descriptive analysis of the three expenditure share variables we constructed in exercise 3 as well as total consumption **for each gender**. Comment briefly on the table while you highlight main features of the\n",
    "data, and possibly error observations."
   ]
  },
  {
   "cell_type": "markdown",
   "metadata": {},
   "source": [
    "**Your code:**"
   ]
  },
  {
   "cell_type": "code",
   "execution_count": 24,
   "metadata": {},
   "outputs": [
    {
     "name": "stdout",
     "output_type": "stream",
     "text": [
      "                  count   mean    std    min    25%    50%     75%     max\n",
      "xfath_per         450.0  9.421  5.114  0.815  5.836  8.401  11.593  30.781\n",
      "xcloth_total_per  450.0  5.634  3.595  0.000  2.726  4.994   7.951  18.949\n",
      "xalc_per          450.0  3.231  3.680  0.000  0.778  2.054   4.390  18.541\n",
      "count      258.000\n",
      "mean     24351.888\n",
      "std       8611.608\n",
      "min       6748.000\n",
      "25%      18162.250\n",
      "50%      23398.000\n",
      "75%      29908.750\n",
      "max      52477.000\n",
      "Name: xtotal_expenditures, dtype: float64\n",
      "count      192.000\n",
      "mean     21390.760\n",
      "std       7642.036\n",
      "min       5492.000\n",
      "25%      16223.500\n",
      "50%      20636.000\n",
      "75%      26231.500\n",
      "max      49830.000\n",
      "Name: xtotal_expenditures, dtype: float64\n"
     ]
    }
   ],
   "source": [
    "vars = ['xfath_per', 'xcloth_total_per', 'xalc_per']\n",
    "print(df[vars].describe().round(3).T)\n",
    "\n",
    "print(df[df.dmale == 1]['xtotal_expenditures'].describe().round(3))\n",
    "\n",
    "print(df[df.dmale == 0]['xtotal_expenditures'].describe().round(3))"
   ]
  },
  {
   "cell_type": "markdown",
   "metadata": {},
   "source": [
    "**Your comments (answer in plain text):**"
   ]
  },
  {
   "cell_type": "markdown",
   "metadata": {},
   "source": []
  }
 ],
 "metadata": {
  "kernelspec": {
   "display_name": "Python 3 (ipykernel)",
   "language": "python",
   "name": "python3"
  },
  "language_info": {
   "codemirror_mode": {
    "name": "ipython",
    "version": 3
   },
   "file_extension": ".py",
   "mimetype": "text/x-python",
   "name": "python",
   "nbconvert_exporter": "python",
   "pygments_lexer": "ipython3",
   "version": "3.12.3"
  }
 },
 "nbformat": 4,
 "nbformat_minor": 2
}

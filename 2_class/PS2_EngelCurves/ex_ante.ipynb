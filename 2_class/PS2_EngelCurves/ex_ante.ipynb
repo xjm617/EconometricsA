{
 "cells": [
  {
   "cell_type": "markdown",
   "metadata": {},
   "source": [
    "# Problem Set 2\n"
   ]
  },
  {
   "cell_type": "markdown",
   "metadata": {},
   "source": [
    "## An econometric analysis of Engel curves for U.S. households\n",
    "In problem set 1, we undertook the initial analysis of the data and discussed regression models of Engel curves for food, clothes and alcohol. The objective of this week’s problem set is to estimate a simple regression model of the Engel curve using the OLS estimator.\n",
    "\n",
    "The starting point is a regression model with one explanatory variable. Specifically, let us consider the case where the dependent variable represents food expenditures, while the explanatory variable is total expenditure:\n",
    "\n",
    "\\begin{align}\n",
    "\\text{xfath}_i = \\beta_0 + \\beta_1 \\text{xtot}_i + u_i \\tag{1}\n",
    "\\end{align}\n",
    "\n",
    "In the consumption literature, it is common to use expenditure share, $\\text{xfath}/\\text{xtot}$, as the dependent variable instead of using total food expenditures. Furthermore, the logarithm of total expenditure deflated by an individual ”consumer price index” is often used as the explanatory variable. In this case, the regression model is:\n",
    "\n",
    "\\begin{align}\n",
    "\\frac{\\text{xfath}_i}{\\text{xtot}_i} = \\delta_0 + \\delta_1 \\log \\left(\\frac{\\text{xtot}_i}{\\text{price}_i}\n",
    "\\right) + v_i \\tag{2}\n",
    "\\end{align}"
   ]
  },
  {
   "cell_type": "markdown",
   "metadata": {},
   "source": [
    "\n",
    "## Group work: Discuss model (2)"
   ]
  },
  {
   "cell_type": "markdown",
   "metadata": {},
   "source": [
    "### Question 1\n",
    "**Task:** What is the interpretation of $\\delta_1$ when $%\n",
    "\\delta_1>0$ and $\\delta_1<0$? \n",
    "(Hint: luxury versus necessity goods)\n",
    "\n",
    "**Your answer:**"
   ]
  },
  {
   "cell_type": "markdown",
   "metadata": {},
   "source": [
    "Når delta_1 > 0, vokser andelen af gode x, når totale udgifter vokser, dermed har vi i dette tilfælde en luksus vare.\n",
    "\n",
    "Når delta_1 < 0 , minker andelen af gode x, når de totale udgifter vokser, dette kan fortolkes som at vi har en necessity vare."
   ]
  },
  {
   "cell_type": "markdown",
   "metadata": {},
   "source": [
    "### Question 2\n",
    "**Task:** What is likely to be included in the error term in model (2)?\n",
    "(Hint: What other variables may influence the dependent variable, $\\text{xfath}/\\text{xtot}$, besides the explanatory variable?)\n",
    "\n",
    "**Your answer:**"
   ]
  },
  {
   "cell_type": "markdown",
   "metadata": {},
   "source": []
  },
  {
   "cell_type": "markdown",
   "metadata": {},
   "source": [
    "\n",
    "## Python exercises"
   ]
  },
  {
   "cell_type": "markdown",
   "metadata": {},
   "source": [
    "### Exercise 1: Estimate model (1)\n",
    "In this exercise, we are going to estimate model (1) **for men only** using OLS:\n",
    "\\begin{align}\n",
    "\\text{xfath}_i = \\beta_0 + \\beta_1 \\text{xtot}_i + u_i \\tag{1}\n",
    "\\end{align}\n",
    "\n",
    "To do this, revisit the lecture notebook and use the `statsmodels` approach described there.\n",
    "\n",
    "\n",
    "\n",
    "---"
   ]
  },
  {
   "cell_type": "markdown",
   "metadata": {},
   "source": [
    "**Task 1.** Load the data from PS2.dta"
   ]
  },
  {
   "cell_type": "markdown",
   "metadata": {},
   "source": [
    "**Your code:**"
   ]
  },
  {
   "cell_type": "code",
   "execution_count": 5,
   "metadata": {},
   "outputs": [
    {
     "data": {
      "text/html": [
       "<div>\n",
       "<style scoped>\n",
       "    .dataframe tbody tr th:only-of-type {\n",
       "        vertical-align: middle;\n",
       "    }\n",
       "\n",
       "    .dataframe tbody tr th {\n",
       "        vertical-align: top;\n",
       "    }\n",
       "\n",
       "    .dataframe thead th {\n",
       "        text-align: right;\n",
       "    }\n",
       "</style>\n",
       "<table border=\"1\" class=\"dataframe\">\n",
       "  <thead>\n",
       "    <tr style=\"text-align: right;\">\n",
       "      <th></th>\n",
       "      <th>year</th>\n",
       "      <th>province</th>\n",
       "      <th>hgy</th>\n",
       "      <th>hage</th>\n",
       "      <th>nety</th>\n",
       "      <th>xfath</th>\n",
       "      <th>xrest</th>\n",
       "      <th>xhhop</th>\n",
       "      <th>xwcloth</th>\n",
       "      <th>xmcloth</th>\n",
       "      <th>...</th>\n",
       "      <th>pcaruse</th>\n",
       "      <th>pcare</th>\n",
       "      <th>stonep</th>\n",
       "      <th>price</th>\n",
       "      <th>rxtot</th>\n",
       "      <th>xtot</th>\n",
       "      <th>wfath</th>\n",
       "      <th>wwcloth</th>\n",
       "      <th>wmcloth</th>\n",
       "      <th>walc</th>\n",
       "    </tr>\n",
       "  </thead>\n",
       "  <tbody>\n",
       "    <tr>\n",
       "      <th>0</th>\n",
       "      <td>92.0</td>\n",
       "      <td>5.0</td>\n",
       "      <td>18795.0</td>\n",
       "      <td>35.0</td>\n",
       "      <td>16901.0</td>\n",
       "      <td>1510.0</td>\n",
       "      <td>526.0</td>\n",
       "      <td>1200.0</td>\n",
       "      <td>1066.0</td>\n",
       "      <td>0.0</td>\n",
       "      <td>...</td>\n",
       "      <td>279.678772</td>\n",
       "      <td>214.639633</td>\n",
       "      <td>5.491577</td>\n",
       "      <td>242.639587</td>\n",
       "      <td>37.038475</td>\n",
       "      <td>8987.0</td>\n",
       "      <td>0.168020</td>\n",
       "      <td>0.118616</td>\n",
       "      <td>0.000000</td>\n",
       "      <td>0.007789</td>\n",
       "    </tr>\n",
       "    <tr>\n",
       "      <th>1</th>\n",
       "      <td>92.0</td>\n",
       "      <td>2.0</td>\n",
       "      <td>36000.0</td>\n",
       "      <td>34.0</td>\n",
       "      <td>26350.0</td>\n",
       "      <td>2680.0</td>\n",
       "      <td>260.0</td>\n",
       "      <td>1734.0</td>\n",
       "      <td>842.0</td>\n",
       "      <td>0.0</td>\n",
       "      <td>...</td>\n",
       "      <td>272.327911</td>\n",
       "      <td>221.057159</td>\n",
       "      <td>5.456213</td>\n",
       "      <td>234.208679</td>\n",
       "      <td>48.947803</td>\n",
       "      <td>11464.0</td>\n",
       "      <td>0.233775</td>\n",
       "      <td>0.073447</td>\n",
       "      <td>0.000000</td>\n",
       "      <td>0.004361</td>\n",
       "    </tr>\n",
       "    <tr>\n",
       "      <th>2</th>\n",
       "      <td>92.0</td>\n",
       "      <td>4.0</td>\n",
       "      <td>29288.0</td>\n",
       "      <td>39.0</td>\n",
       "      <td>20346.0</td>\n",
       "      <td>1820.0</td>\n",
       "      <td>50.0</td>\n",
       "      <td>647.0</td>\n",
       "      <td>2270.0</td>\n",
       "      <td>0.0</td>\n",
       "      <td>...</td>\n",
       "      <td>228.363876</td>\n",
       "      <td>203.841293</td>\n",
       "      <td>5.604066</td>\n",
       "      <td>271.528290</td>\n",
       "      <td>39.590717</td>\n",
       "      <td>10750.0</td>\n",
       "      <td>0.169302</td>\n",
       "      <td>0.211163</td>\n",
       "      <td>0.000000</td>\n",
       "      <td>0.025581</td>\n",
       "    </tr>\n",
       "    <tr>\n",
       "      <th>3</th>\n",
       "      <td>92.0</td>\n",
       "      <td>4.0</td>\n",
       "      <td>29225.0</td>\n",
       "      <td>28.0</td>\n",
       "      <td>24005.0</td>\n",
       "      <td>1440.0</td>\n",
       "      <td>1986.0</td>\n",
       "      <td>4186.0</td>\n",
       "      <td>2125.0</td>\n",
       "      <td>0.0</td>\n",
       "      <td>...</td>\n",
       "      <td>228.363876</td>\n",
       "      <td>203.841293</td>\n",
       "      <td>5.370063</td>\n",
       "      <td>214.876373</td>\n",
       "      <td>73.349152</td>\n",
       "      <td>15761.0</td>\n",
       "      <td>0.091365</td>\n",
       "      <td>0.134826</td>\n",
       "      <td>0.000000</td>\n",
       "      <td>0.000508</td>\n",
       "    </tr>\n",
       "    <tr>\n",
       "      <th>4</th>\n",
       "      <td>92.0</td>\n",
       "      <td>4.0</td>\n",
       "      <td>29300.0</td>\n",
       "      <td>27.0</td>\n",
       "      <td>22118.0</td>\n",
       "      <td>3100.0</td>\n",
       "      <td>515.0</td>\n",
       "      <td>1041.0</td>\n",
       "      <td>769.0</td>\n",
       "      <td>0.0</td>\n",
       "      <td>...</td>\n",
       "      <td>228.363876</td>\n",
       "      <td>203.841293</td>\n",
       "      <td>5.377327</td>\n",
       "      <td>216.443039</td>\n",
       "      <td>45.526989</td>\n",
       "      <td>9854.0</td>\n",
       "      <td>0.314593</td>\n",
       "      <td>0.078039</td>\n",
       "      <td>0.000000</td>\n",
       "      <td>0.020296</td>\n",
       "    </tr>\n",
       "    <tr>\n",
       "      <th>...</th>\n",
       "      <td>...</td>\n",
       "      <td>...</td>\n",
       "      <td>...</td>\n",
       "      <td>...</td>\n",
       "      <td>...</td>\n",
       "      <td>...</td>\n",
       "      <td>...</td>\n",
       "      <td>...</td>\n",
       "      <td>...</td>\n",
       "      <td>...</td>\n",
       "      <td>...</td>\n",
       "      <td>...</td>\n",
       "      <td>...</td>\n",
       "      <td>...</td>\n",
       "      <td>...</td>\n",
       "      <td>...</td>\n",
       "      <td>...</td>\n",
       "      <td>...</td>\n",
       "      <td>...</td>\n",
       "      <td>...</td>\n",
       "      <td>...</td>\n",
       "    </tr>\n",
       "    <tr>\n",
       "      <th>445</th>\n",
       "      <td>92.0</td>\n",
       "      <td>3.0</td>\n",
       "      <td>60600.0</td>\n",
       "      <td>42.0</td>\n",
       "      <td>41900.0</td>\n",
       "      <td>2490.0</td>\n",
       "      <td>1500.0</td>\n",
       "      <td>565.0</td>\n",
       "      <td>0.0</td>\n",
       "      <td>310.0</td>\n",
       "      <td>...</td>\n",
       "      <td>284.803314</td>\n",
       "      <td>223.677643</td>\n",
       "      <td>5.693949</td>\n",
       "      <td>297.064484</td>\n",
       "      <td>54.829845</td>\n",
       "      <td>16288.0</td>\n",
       "      <td>0.152873</td>\n",
       "      <td>0.000000</td>\n",
       "      <td>0.019032</td>\n",
       "      <td>0.083497</td>\n",
       "    </tr>\n",
       "    <tr>\n",
       "      <th>446</th>\n",
       "      <td>92.0</td>\n",
       "      <td>1.0</td>\n",
       "      <td>45148.0</td>\n",
       "      <td>41.0</td>\n",
       "      <td>35073.0</td>\n",
       "      <td>900.0</td>\n",
       "      <td>4500.0</td>\n",
       "      <td>933.0</td>\n",
       "      <td>0.0</td>\n",
       "      <td>880.0</td>\n",
       "      <td>...</td>\n",
       "      <td>236.936798</td>\n",
       "      <td>197.392685</td>\n",
       "      <td>5.489823</td>\n",
       "      <td>242.214417</td>\n",
       "      <td>55.417839</td>\n",
       "      <td>13423.0</td>\n",
       "      <td>0.067049</td>\n",
       "      <td>0.000000</td>\n",
       "      <td>0.065559</td>\n",
       "      <td>0.207852</td>\n",
       "    </tr>\n",
       "    <tr>\n",
       "      <th>447</th>\n",
       "      <td>92.0</td>\n",
       "      <td>4.0</td>\n",
       "      <td>41200.0</td>\n",
       "      <td>29.0</td>\n",
       "      <td>30900.0</td>\n",
       "      <td>1500.0</td>\n",
       "      <td>1580.0</td>\n",
       "      <td>580.0</td>\n",
       "      <td>0.0</td>\n",
       "      <td>2195.0</td>\n",
       "      <td>...</td>\n",
       "      <td>228.363876</td>\n",
       "      <td>203.841293</td>\n",
       "      <td>5.392261</td>\n",
       "      <td>219.699570</td>\n",
       "      <td>69.258217</td>\n",
       "      <td>15216.0</td>\n",
       "      <td>0.098580</td>\n",
       "      <td>0.000000</td>\n",
       "      <td>0.144256</td>\n",
       "      <td>0.018402</td>\n",
       "    </tr>\n",
       "    <tr>\n",
       "      <th>448</th>\n",
       "      <td>92.0</td>\n",
       "      <td>2.0</td>\n",
       "      <td>40400.0</td>\n",
       "      <td>38.0</td>\n",
       "      <td>28440.0</td>\n",
       "      <td>2790.0</td>\n",
       "      <td>2410.0</td>\n",
       "      <td>874.0</td>\n",
       "      <td>0.0</td>\n",
       "      <td>1000.0</td>\n",
       "      <td>...</td>\n",
       "      <td>272.327911</td>\n",
       "      <td>221.057159</td>\n",
       "      <td>5.520148</td>\n",
       "      <td>249.672058</td>\n",
       "      <td>62.822407</td>\n",
       "      <td>15685.0</td>\n",
       "      <td>0.177877</td>\n",
       "      <td>0.000000</td>\n",
       "      <td>0.063755</td>\n",
       "      <td>0.155690</td>\n",
       "    </tr>\n",
       "    <tr>\n",
       "      <th>449</th>\n",
       "      <td>92.0</td>\n",
       "      <td>3.0</td>\n",
       "      <td>32000.0</td>\n",
       "      <td>25.0</td>\n",
       "      <td>27422.0</td>\n",
       "      <td>1100.0</td>\n",
       "      <td>1140.0</td>\n",
       "      <td>486.0</td>\n",
       "      <td>0.0</td>\n",
       "      <td>1175.0</td>\n",
       "      <td>...</td>\n",
       "      <td>284.803314</td>\n",
       "      <td>223.677643</td>\n",
       "      <td>5.657113</td>\n",
       "      <td>286.320862</td>\n",
       "      <td>31.283085</td>\n",
       "      <td>8957.0</td>\n",
       "      <td>0.122809</td>\n",
       "      <td>0.000000</td>\n",
       "      <td>0.131182</td>\n",
       "      <td>0.205203</td>\n",
       "    </tr>\n",
       "  </tbody>\n",
       "</table>\n",
       "<p>450 rows × 43 columns</p>\n",
       "</div>"
      ],
      "text/plain": [
       "     year  province      hgy  hage     nety   xfath   xrest   xhhop  xwcloth  \\\n",
       "0    92.0       5.0  18795.0  35.0  16901.0  1510.0   526.0  1200.0   1066.0   \n",
       "1    92.0       2.0  36000.0  34.0  26350.0  2680.0   260.0  1734.0    842.0   \n",
       "2    92.0       4.0  29288.0  39.0  20346.0  1820.0    50.0   647.0   2270.0   \n",
       "3    92.0       4.0  29225.0  28.0  24005.0  1440.0  1986.0  4186.0   2125.0   \n",
       "4    92.0       4.0  29300.0  27.0  22118.0  3100.0   515.0  1041.0    769.0   \n",
       "..    ...       ...      ...   ...      ...     ...     ...     ...      ...   \n",
       "445  92.0       3.0  60600.0  42.0  41900.0  2490.0  1500.0   565.0      0.0   \n",
       "446  92.0       1.0  45148.0  41.0  35073.0   900.0  4500.0   933.0      0.0   \n",
       "447  92.0       4.0  41200.0  29.0  30900.0  1500.0  1580.0   580.0      0.0   \n",
       "448  92.0       2.0  40400.0  38.0  28440.0  2790.0  2410.0   874.0      0.0   \n",
       "449  92.0       3.0  32000.0  25.0  27422.0  1100.0  1140.0   486.0      0.0   \n",
       "\n",
       "     xmcloth  ...     pcaruse       pcare    stonep       price      rxtot  \\\n",
       "0        0.0  ...  279.678772  214.639633  5.491577  242.639587  37.038475   \n",
       "1        0.0  ...  272.327911  221.057159  5.456213  234.208679  48.947803   \n",
       "2        0.0  ...  228.363876  203.841293  5.604066  271.528290  39.590717   \n",
       "3        0.0  ...  228.363876  203.841293  5.370063  214.876373  73.349152   \n",
       "4        0.0  ...  228.363876  203.841293  5.377327  216.443039  45.526989   \n",
       "..       ...  ...         ...         ...       ...         ...        ...   \n",
       "445    310.0  ...  284.803314  223.677643  5.693949  297.064484  54.829845   \n",
       "446    880.0  ...  236.936798  197.392685  5.489823  242.214417  55.417839   \n",
       "447   2195.0  ...  228.363876  203.841293  5.392261  219.699570  69.258217   \n",
       "448   1000.0  ...  272.327911  221.057159  5.520148  249.672058  62.822407   \n",
       "449   1175.0  ...  284.803314  223.677643  5.657113  286.320862  31.283085   \n",
       "\n",
       "        xtot     wfath   wwcloth   wmcloth      walc  \n",
       "0     8987.0  0.168020  0.118616  0.000000  0.007789  \n",
       "1    11464.0  0.233775  0.073447  0.000000  0.004361  \n",
       "2    10750.0  0.169302  0.211163  0.000000  0.025581  \n",
       "3    15761.0  0.091365  0.134826  0.000000  0.000508  \n",
       "4     9854.0  0.314593  0.078039  0.000000  0.020296  \n",
       "..       ...       ...       ...       ...       ...  \n",
       "445  16288.0  0.152873  0.000000  0.019032  0.083497  \n",
       "446  13423.0  0.067049  0.000000  0.065559  0.207852  \n",
       "447  15216.0  0.098580  0.000000  0.144256  0.018402  \n",
       "448  15685.0  0.177877  0.000000  0.063755  0.155690  \n",
       "449   8957.0  0.122809  0.000000  0.131182  0.205203  \n",
       "\n",
       "[450 rows x 43 columns]"
      ]
     },
     "execution_count": 5,
     "metadata": {},
     "output_type": "execute_result"
    }
   ],
   "source": [
    "import pandas as pd\n",
    "df = pd.read_stata('PS2.dta')\n",
    "df"
   ]
  },
  {
   "cell_type": "markdown",
   "metadata": {},
   "source": [
    "**Task 2:** Estimate model (1) **for the male participants in the survey** only using the `statsmodels` module as described in lecture."
   ]
  },
  {
   "cell_type": "markdown",
   "metadata": {},
   "source": [
    "**Your code:**"
   ]
  },
  {
   "cell_type": "code",
   "execution_count": 7,
   "metadata": {},
   "outputs": [
    {
     "name": "stdout",
     "output_type": "stream",
     "text": [
      "                            OLS Regression Results                            \n",
      "==============================================================================\n",
      "Dep. Variable:                  xfath   R-squared:                       0.049\n",
      "Model:                            OLS   Adj. R-squared:                  0.045\n",
      "Method:                 Least Squares   F-statistic:                     13.11\n",
      "Date:                Mon, 09 Sep 2024   Prob (F-statistic):           0.000354\n",
      "Time:                        11:18:11   Log-Likelihood:                -2157.0\n",
      "No. Observations:                 258   AIC:                             4318.\n",
      "Df Residuals:                     256   BIC:                             4325.\n",
      "Df Model:                           1                                         \n",
      "Covariance Type:            nonrobust                                         \n",
      "==============================================================================\n",
      "                 coef    std err          t      P>|t|      [0.025      0.975]\n",
      "------------------------------------------------------------------------------\n",
      "xtot           0.0488      0.013      3.621      0.000       0.022       0.075\n",
      "konstant    1443.0723    195.086      7.397      0.000    1058.895    1827.249\n",
      "==============================================================================\n",
      "Omnibus:                       30.769   Durbin-Watson:                   1.909\n",
      "Prob(Omnibus):                  0.000   Jarque-Bera (JB):               37.993\n",
      "Skew:                           0.882   Prob(JB):                     5.62e-09\n",
      "Kurtosis:                       3.649   Cond. No.                     4.36e+04\n",
      "==============================================================================\n",
      "\n",
      "Notes:\n",
      "[1] Standard Errors assume that the covariance matrix of the errors is correctly specified.\n",
      "[2] The condition number is large, 4.36e+04. This might indicate that there are\n",
      "strong multicollinearity or other numerical problems.\n"
     ]
    }
   ],
   "source": [
    "import statsmodels.api as sm\n",
    "df_male = df[df.dmale == 1]\n",
    "x_male=df_male[[\"xtot\"]].copy()\n",
    "x_male[\"konstant\"]=1\n",
    "y_male = df_male[\"xfath\"]\n",
    "\n",
    "x_male\n",
    "\n",
    "model = sm.OLS(y_male, x_male).fit\n",
    "\n",
    "# OLS estimation vha OLS fra statsmodels\n",
    "model_sm = sm.OLS(y_male, x_male).fit()\n",
    "print(model_sm.summary())"
   ]
  },
  {
   "cell_type": "markdown",
   "metadata": {},
   "source": [
    "\n",
    "**Task 3:** What is the interpretation of the slope $\\beta_1$ and intercept $\\beta_0$ in model (1)? \n"
   ]
  },
  {
   "cell_type": "markdown",
   "metadata": {},
   "source": [
    "**Your answer:**"
   ]
  },
  {
   "cell_type": "markdown",
   "metadata": {},
   "source": [
    "Interpretation of the Intercept beta_0 represents the predicted value of food expenditure when the total expenditure (xtot_i) is zero.\n",
    "\n",
    "In practical terms, this would tell you the expected food expenditure for a household with zero total expenditure, which may not have a meaningful interpretation in reality (because total expenditure can rarely be zero), but it serves as the starting point of the regression line.\n",
    "\n",
    "Interpretation of the slope beta_1 represents the change in food expenditure (xfath_i) for each one-unit increase in total expenditure (xtot_i). \n",
    "In other words, beta_1 tells us how much food expenditure is expected to change when total expenditure increases by one dollar (or the respective currency unit). A positive beta_1 indicates that food expenditure increases with higher total expenditure, while a negative beta_1 would suggest the opposite."
   ]
  },
  {
   "cell_type": "markdown",
   "metadata": {},
   "source": [
    "**Task 4:** What is the estimate of the slope? And the intercept?\n",
    "\n"
   ]
  },
  {
   "cell_type": "markdown",
   "metadata": {},
   "source": [
    "**Your answer:**"
   ]
  },
  {
   "cell_type": "markdown",
   "metadata": {},
   "source": [
    "Vi kan aflæse estimaterne udfra modellen i opgave 2. Vi har estimaterne\n",
    "beta_0 = 1443.0723 \n",
    "beta_1 = 0.0488."
   ]
  },
  {
   "cell_type": "markdown",
   "metadata": {},
   "source": [
    "**Task 5:** What is the total variation in the dependent variable, SST? The explained variation in the dependent variable, SSE? The variation in the residuals, SSR?\n",
    "\n",
    "_Hint:_ You can calculate these statistics manually using the code from the lecture. Alternatively, you can access the statistics directly as properties of your OLS results object `sm.OLS.fit()`. If you named this object `results`, you can access the SST using `results.centered_tss`, the SSR using `results.ssr` and the SSE using `results.ess`."
   ]
  },
  {
   "cell_type": "markdown",
   "metadata": {},
   "source": [
    "**Your code:**"
   ]
  },
  {
   "cell_type": "code",
   "execution_count": 10,
   "metadata": {},
   "outputs": [
    {
     "name": "stdout",
     "output_type": "stream",
     "text": [
      "SST (Total sum of squares):        290257414.4844961\n",
      "SSE (Explained sum of squares):    xtot        1.411659e+07\n",
      "konstant    1.145704e+08\n",
      "dtype: float64\n",
      "SSR (Residual sum of squares):     192         0.0\n",
      "193         0.0\n",
      "194         0.0\n",
      "195         0.0\n",
      "196         0.0\n",
      "           ... \n",
      "447         0.0\n",
      "448         0.0\n",
      "449         0.0\n",
      "konstant    0.0\n",
      "xtot        0.0\n",
      "Length: 260, dtype: float64\n",
      "R^2 (Goodness of fit):             xtot        0.048635\n",
      "konstant    0.394720\n",
      "dtype: float64\n"
     ]
    },
    {
     "name": "stderr",
     "output_type": "stream",
     "text": [
      "c:\\Users\\Anja\\anaconda3\\Lib\\site-packages\\numpy\\core\\fromnumeric.py:86: FutureWarning: The behavior of DataFrame.sum with axis=None is deprecated, in a future version this will reduce over both axes and return a scalar. To retain the old behavior, pass axis=0 (or do not pass axis)\n",
      "  return reduction(axis=axis, out=out, **passkwargs)\n",
      "c:\\Users\\Anja\\anaconda3\\Lib\\site-packages\\numpy\\core\\fromnumeric.py:86: FutureWarning: The behavior of DataFrame.sum with axis=None is deprecated, in a future version this will reduce over both axes and return a scalar. To retain the old behavior, pass axis=0 (or do not pass axis)\n",
      "  return reduction(axis=axis, out=out, **passkwargs)\n"
     ]
    }
   ],
   "source": [
    "import numpy as np\n",
    "\n",
    "bhat0 = 1443.0723\n",
    "bhat1 = 0.0488\n",
    "\n",
    "# Forudsagte værdier (y-hat)\n",
    "yhat = bhat0 + bhat1 * x_male\n",
    "\n",
    "# Godness of fit\n",
    "SST = np.sum((y_male - np.mean(y_male)) ** 2)     # Total sum of squres\n",
    "SSE = np.sum((yhat - np.mean(y_male)) ** 2)  # Forklaret sum of squares\n",
    "SSR = np.sum((y_male - yhat) ** 2)           # Residual sum of squares\n",
    "R2 = SSE / SST                          # Forklaringsgrad\n",
    "\n",
    "# Udskriv resultater\n",
    "print(f\"SST (Total sum of squares):        {SST}\")\n",
    "print(f\"SSE (Explained sum of squares):    {SSE}\")\n",
    "print(f\"SSR (Residual sum of squares):     {SSR}\")\n",
    "print(f\"R^2 (Goodness of fit):             {R2}\")"
   ]
  },
  {
   "cell_type": "code",
   "execution_count": 11,
   "metadata": {},
   "outputs": [
    {
     "name": "stdout",
     "output_type": "stream",
     "text": [
      "SST (Total sum of squares):        290257414.48\n",
      "SSE (Explained sum of squares):     14140148.17\n",
      "SSR (Residual ssum of squares):    276117266.31\n",
      "R^2 (Goodness of fit):                   0.0487\n"
     ]
    }
   ],
   "source": [
    "SST_sm = model_sm.ess + model_sm.ssr  # Total Sum of Squares (SST)\n",
    "SSR_sm = model_sm.ssr                 # Residual Sum of Squares (SSR)\n",
    "SSE_sm = model_sm.ess                 # Explained Sum of Squares (SSE)\n",
    "R2_sm = model_sm.rsquared             # R^2\n",
    "print(f\"SST (Total sum of squares):     {SST_sm:15.2f}\")\n",
    "print(f\"SSE (Explained sum of squares): {SSE_sm:15.2f}\")\n",
    "print(f\"SSR (Residual ssum of squares): {SSR_sm:15.2f}\")\n",
    "print(f\"R^2 (Goodness of fit):          {R2_sm:15.4f}\")"
   ]
  },
  {
   "cell_type": "markdown",
   "metadata": {},
   "source": [
    "**Your answer:**"
   ]
  },
  {
   "cell_type": "markdown",
   "metadata": {},
   "source": []
  },
  {
   "cell_type": "markdown",
   "metadata": {},
   "source": [
    "**Task 6:** Find the coefficient of determination, $R^2$. How can it be calculated from the three measures from the previous question? How would you interpret the calculated $R^2$?\n"
   ]
  },
  {
   "cell_type": "markdown",
   "metadata": {},
   "source": [
    "**Your answer:**"
   ]
  },
  {
   "cell_type": "markdown",
   "metadata": {},
   "source": [
    "R^2 = SSE / SST \n",
    "\n",
    "Jo tættere på 1 R^2 er jo bedre."
   ]
  },
  {
   "cell_type": "markdown",
   "metadata": {},
   "source": [
    "**Task 7:** What is the estimate of the variance of the error term, $\\hat \\sigma^2$?\n",
    "\n",
    "_Hint:_ use `results.mse_resid` to retrieve the estimated variance of the error term directly from the model object"
   ]
  },
  {
   "cell_type": "markdown",
   "metadata": {},
   "source": [
    "**Your code:**"
   ]
  },
  {
   "cell_type": "code",
   "execution_count": null,
   "metadata": {},
   "outputs": [],
   "source": [
    "results.mse.resid"
   ]
  },
  {
   "cell_type": "markdown",
   "metadata": {},
   "source": [
    "**Your answer:**"
   ]
  },
  {
   "cell_type": "markdown",
   "metadata": {},
   "source": []
  },
  {
   "cell_type": "markdown",
   "metadata": {},
   "source": [
    "### Exercise 2: Illustrate the estimated Engel curve"
   ]
  },
  {
   "cell_type": "markdown",
   "metadata": {},
   "source": [
    "**Task 1:** Illustrate the estimated Engel curve in a graph together with a scatterplot of the actual data observations. \n",
    "\n",
    "_Hints:_ To plot the estimated Engel curve, you need the $\\hat{y}$ values (your estimated xfath values) for each of the observed $x$-values (the xtot values) in the dataset. When plotted together, these $\\hat{y}$ values form the line estimated by OLS.\n",
    "\n",
    "If your OLS results object is called `results` and your observations of xtot are called `X`, you can extract the $\\hat{y}$ values like this:\n",
    "\n",
    "```py\n",
    "y_hat = results.predict(X)\n",
    "```\n",
    "\n",
    "To do a lineplot in Seaborn, use the `sns.lineplot(x, y, data)` method.\n",
    "\n",
    "To layer two plots on top of each other, simply execute two Seaborn commands after one another in a single cell."
   ]
  },
  {
   "cell_type": "markdown",
   "metadata": {},
   "source": [
    "**Your code:**"
   ]
  },
  {
   "cell_type": "code",
   "execution_count": null,
   "metadata": {},
   "outputs": [],
   "source": []
  },
  {
   "cell_type": "markdown",
   "metadata": {},
   "source": [
    "**Task 2:** Perform scatterplots of the residuals from the regression against xtot and the predicted value of food consumption, separately.What shall you expect given the assumptions presented in the lectures? Should you expect the total expediture to correlate with the residuals? \n",
    "\n",
    "_Hint:_\n",
    "You can access the residuals using the `.resid` property of your results object.\n",
    "\n",
    "_Pro tip:_ You can manually change the labels of the y- and x-axis of Seaborn plots by adding `.set(ylabel=\"Residuals\", xlabel=\"xtot\")` to the end of your plot command"
   ]
  },
  {
   "cell_type": "markdown",
   "metadata": {},
   "source": [
    "**Your code:**"
   ]
  },
  {
   "cell_type": "code",
   "execution_count": 1,
   "metadata": {},
   "outputs": [],
   "source": [
    "#Task 2a \n"
   ]
  },
  {
   "cell_type": "code",
   "execution_count": 2,
   "metadata": {},
   "outputs": [],
   "source": [
    "# Task 2b\n"
   ]
  },
  {
   "cell_type": "markdown",
   "metadata": {},
   "source": [
    "Remember the mechanical properties of the OLS estimator: The residuals sum to zero, $E(u)=0$, and are always uncorrelated with the explanatory variables, $E(x|u)=0$"
   ]
  },
  {
   "cell_type": "markdown",
   "metadata": {},
   "source": [
    "### Exercise 2: Estimate model (2)\n",
    "\n",
    "In this exercise, we are going to estimate model (2) for men and women individually:\n",
    "\\begin{align}\n",
    "\\frac{\\text{xfath}_i}{\\text{xtot}_i} = \\delta_0 + \\delta_1 \\log \\left(\\frac{\\text{xtot}_i}{\\text{price}_i}\n",
    "\\right) + v_i \\tag{2}\n",
    "\\end{align}\n"
   ]
  },
  {
   "cell_type": "markdown",
   "metadata": {},
   "source": [
    "**Task 1:** Construct the variables needed to estimate model (2). \n",
    "\n",
    "_Hint:_ The $\\text{price}_i$ variable is included in the dataset under the name `price`.\n"
   ]
  },
  {
   "cell_type": "markdown",
   "metadata": {},
   "source": [
    "**Your code:**"
   ]
  },
  {
   "cell_type": "code",
   "execution_count": null,
   "metadata": {},
   "outputs": [],
   "source": []
  },
  {
   "cell_type": "markdown",
   "metadata": {},
   "source": [
    "**Task 2:** Estimate model (2) by OLS for the budget shares of food, clothing and alcohol for men and women, separately. For each gender and each of the three expenditure categories, print the estimated slope parameters. \n",
    "\n",
    "_Hint_: Write a nested for-loop where you estimate the model and print the parameter estimate for each of the genders and and each of the three dependant variables. \n",
    "\n",
    "To access the individual model parameters, you can use the `.params` property of the results object. For example, if you have an explanatory variable called `log_xtot_adj`, you can access the parameter estimate like this:\n",
    "\n",
    "\n",
    "```py\n",
    "model = sm.OLS(y, X)\n",
    "results = models.fit()\n",
    "delta1 = results.params['log_xtot_adj']\n",
    "```"
   ]
  },
  {
   "cell_type": "markdown",
   "metadata": {},
   "source": [
    "**Your code:**"
   ]
  },
  {
   "cell_type": "code",
   "execution_count": null,
   "metadata": {},
   "outputs": [],
   "source": []
  },
  {
   "cell_type": "markdown",
   "metadata": {},
   "source": [
    "**Task 3:** Interpret the estimation results in light of the discussion on luxury versus necessity goods (see group work). Which parameter is central to the analysis? What conclusions can be drawn on the basis of the analysis?"
   ]
  },
  {
   "cell_type": "markdown",
   "metadata": {},
   "source": [
    "**Your answer:**"
   ]
  },
  {
   "cell_type": "markdown",
   "metadata": {},
   "source": []
  },
  {
   "cell_type": "markdown",
   "metadata": {},
   "source": [
    "## Theoretical exercise\n",
    "Solve the following theoretical exercises (using pen and paper). Estimated time for the exam is 30\n",
    "minutes.\n",
    "\n",
    "**Task 1:**\n",
    "Write up the simple linear regression model (SLR) with a constant term and 1\n",
    "explanatory variable in matrix form for $n$ observations."
   ]
  },
  {
   "cell_type": "markdown",
   "metadata": {},
   "source": [
    "**Task 2:** Write the OLS estimator in matrix form. Show that when one\n",
    "calculates the OLS estimator, then: \n",
    "\\begin{equation*}\n",
    "\\widehat{\\beta }_{0}=\\bar{y}-\\frac{\\sum_{i=1}^{n}(x_{i}-\\bar{x})(y_{i}-\\bar{y%\n",
    "})}{\\sum_{i=1}^{n}(x_{i}-\\bar{x})^{2}}\\bar{x},\\qquad \\widehat{\\beta }_{1}=%\n",
    "\\frac{\\sum_{i=1}^{n}(x_{i}-\\bar{x})(y_{i}-\\bar{y})}{\\sum_{i=1}^{n}(x_{i}-%\n",
    "\\bar{x})^{2}}\n",
    "\\end{equation*}%\n",
    "where $\\bar{x}=\\frac{1}{n}\\sum_{i=1}^{n}x_{i}$ and $\\bar{y}=\\frac{1}{n}%\n",
    "\\sum_{i=1}^{n}y_{i}$.\n",
    "\n",
    "_Hints_: Use the following rule for inverting a matrix: \n",
    "\\begin{equation*}\n",
    "\\left[ \n",
    "\\begin{array}{cc}\n",
    "a & b \\\\ \n",
    "c & d%\n",
    "\\end{array}%\n",
    "\\right] ^{-1}=\\frac{1}{ad-bc}\\left[ \n",
    "\\begin{array}{cc}\n",
    "d & -b \\\\ \n",
    "-c & a%\n",
    "\\end{array}%\n",
    "\\right]\n",
    "\\end{equation*}\n",
    "as well rules (A.7) and (A.8) in Math Refresher A in the textbook.\n"
   ]
  }
 ],
 "metadata": {
  "kernelspec": {
   "display_name": "Python 3 (ipykernel)",
   "language": "python",
   "name": "python3"
  },
  "language_info": {
   "codemirror_mode": {
    "name": "ipython",
    "version": 3
   },
   "file_extension": ".py",
   "mimetype": "text/x-python",
   "name": "python",
   "nbconvert_exporter": "python",
   "pygments_lexer": "ipython3",
   "version": "3.12.3"
  }
 },
 "nbformat": 4,
 "nbformat_minor": 2
}
